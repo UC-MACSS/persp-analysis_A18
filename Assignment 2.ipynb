{
 "cells": [
  {
   "cell_type": "markdown",
   "metadata": {},
   "source": [
    "# Assignment 2 - Josephine Tan"
   ]
  },
  {
   "cell_type": "markdown",
   "metadata": {},
   "source": [
    "# Question 1"
   ]
  },
  {
   "cell_type": "code",
   "execution_count": 121,
   "metadata": {},
   "outputs": [],
   "source": [
    "#Import packages\n",
    "import pandas as pd"
   ]
  },
  {
   "cell_type": "markdown",
   "metadata": {},
   "source": [
    "I chose to open the two datasets with the following labels. I labelled the variables of weight and total income from \n",
    "the SurveyIncome dataset differently from the BestIncome dataset to differentiate between these two variables which are from two datasets."
   ]
  },
  {
   "cell_type": "code",
   "execution_count": 122,
   "metadata": {},
   "outputs": [
    {
     "data": {
      "text/html": [
       "<div>\n",
       "<style scoped>\n",
       "    .dataframe tbody tr th:only-of-type {\n",
       "        vertical-align: middle;\n",
       "    }\n",
       "\n",
       "    .dataframe tbody tr th {\n",
       "        vertical-align: top;\n",
       "    }\n",
       "\n",
       "    .dataframe thead th {\n",
       "        text-align: right;\n",
       "    }\n",
       "</style>\n",
       "<table border=\"1\" class=\"dataframe\">\n",
       "  <thead>\n",
       "    <tr style=\"text-align: right;\">\n",
       "      <th></th>\n",
       "      <th>labor income</th>\n",
       "      <th>capital income</th>\n",
       "      <th>height</th>\n",
       "      <th>weight</th>\n",
       "    </tr>\n",
       "  </thead>\n",
       "  <tbody>\n",
       "    <tr>\n",
       "      <th>count</th>\n",
       "      <td>10000.000000</td>\n",
       "      <td>10000.000000</td>\n",
       "      <td>10000.000000</td>\n",
       "      <td>10000.000000</td>\n",
       "    </tr>\n",
       "    <tr>\n",
       "      <th>mean</th>\n",
       "      <td>57052.925133</td>\n",
       "      <td>9985.798563</td>\n",
       "      <td>65.014021</td>\n",
       "      <td>150.006011</td>\n",
       "    </tr>\n",
       "    <tr>\n",
       "      <th>std</th>\n",
       "      <td>8036.544363</td>\n",
       "      <td>2010.123691</td>\n",
       "      <td>1.999692</td>\n",
       "      <td>9.973001</td>\n",
       "    </tr>\n",
       "    <tr>\n",
       "      <th>min</th>\n",
       "      <td>22917.607900</td>\n",
       "      <td>1495.191896</td>\n",
       "      <td>58.176154</td>\n",
       "      <td>114.510700</td>\n",
       "    </tr>\n",
       "    <tr>\n",
       "      <th>25%</th>\n",
       "      <td>51624.339880</td>\n",
       "      <td>8611.756679</td>\n",
       "      <td>63.652971</td>\n",
       "      <td>143.341979</td>\n",
       "    </tr>\n",
       "    <tr>\n",
       "      <th>50%</th>\n",
       "      <td>56968.709935</td>\n",
       "      <td>9969.840117</td>\n",
       "      <td>65.003557</td>\n",
       "      <td>149.947641</td>\n",
       "    </tr>\n",
       "    <tr>\n",
       "      <th>75%</th>\n",
       "      <td>62408.232277</td>\n",
       "      <td>11339.905773</td>\n",
       "      <td>66.356915</td>\n",
       "      <td>156.724586</td>\n",
       "    </tr>\n",
       "    <tr>\n",
       "      <th>max</th>\n",
       "      <td>90059.898537</td>\n",
       "      <td>19882.320069</td>\n",
       "      <td>72.802277</td>\n",
       "      <td>185.408280</td>\n",
       "    </tr>\n",
       "  </tbody>\n",
       "</table>\n",
       "</div>"
      ],
      "text/plain": [
       "       labor income  capital income        height        weight\n",
       "count  10000.000000    10000.000000  10000.000000  10000.000000\n",
       "mean   57052.925133     9985.798563     65.014021    150.006011\n",
       "std     8036.544363     2010.123691      1.999692      9.973001\n",
       "min    22917.607900     1495.191896     58.176154    114.510700\n",
       "25%    51624.339880     8611.756679     63.652971    143.341979\n",
       "50%    56968.709935     9969.840117     65.003557    149.947641\n",
       "75%    62408.232277    11339.905773     66.356915    156.724586\n",
       "max    90059.898537    19882.320069     72.802277    185.408280"
      ]
     },
     "execution_count": 122,
     "metadata": {},
     "output_type": "execute_result"
    }
   ],
   "source": [
    "BestIncome = pd.read_csv('BestIncome.txt', names=['labor income', 'capital income', 'height', 'weight'])\n",
    "BestIncome.describe()"
   ]
  },
  {
   "cell_type": "code",
   "execution_count": 123,
   "metadata": {},
   "outputs": [
    {
     "data": {
      "text/html": [
       "<div>\n",
       "<style scoped>\n",
       "    .dataframe tbody tr th:only-of-type {\n",
       "        vertical-align: middle;\n",
       "    }\n",
       "\n",
       "    .dataframe tbody tr th {\n",
       "        vertical-align: top;\n",
       "    }\n",
       "\n",
       "    .dataframe thead th {\n",
       "        text-align: right;\n",
       "    }\n",
       "</style>\n",
       "<table border=\"1\" class=\"dataframe\">\n",
       "  <thead>\n",
       "    <tr style=\"text-align: right;\">\n",
       "      <th></th>\n",
       "      <th>total_income1</th>\n",
       "      <th>weight1</th>\n",
       "      <th>age</th>\n",
       "      <th>female</th>\n",
       "    </tr>\n",
       "  </thead>\n",
       "  <tbody>\n",
       "    <tr>\n",
       "      <th>count</th>\n",
       "      <td>1000.000000</td>\n",
       "      <td>1000.000000</td>\n",
       "      <td>1000.000000</td>\n",
       "      <td>1000.00000</td>\n",
       "    </tr>\n",
       "    <tr>\n",
       "      <th>mean</th>\n",
       "      <td>64871.210860</td>\n",
       "      <td>149.542181</td>\n",
       "      <td>44.839320</td>\n",
       "      <td>0.50000</td>\n",
       "    </tr>\n",
       "    <tr>\n",
       "      <th>std</th>\n",
       "      <td>9542.444214</td>\n",
       "      <td>22.028883</td>\n",
       "      <td>5.939185</td>\n",
       "      <td>0.50025</td>\n",
       "    </tr>\n",
       "    <tr>\n",
       "      <th>min</th>\n",
       "      <td>31816.281649</td>\n",
       "      <td>99.662468</td>\n",
       "      <td>25.741333</td>\n",
       "      <td>0.00000</td>\n",
       "    </tr>\n",
       "    <tr>\n",
       "      <th>25%</th>\n",
       "      <td>58349.862384</td>\n",
       "      <td>130.179235</td>\n",
       "      <td>41.025231</td>\n",
       "      <td>0.00000</td>\n",
       "    </tr>\n",
       "    <tr>\n",
       "      <th>50%</th>\n",
       "      <td>65281.271149</td>\n",
       "      <td>149.758434</td>\n",
       "      <td>44.955981</td>\n",
       "      <td>0.50000</td>\n",
       "    </tr>\n",
       "    <tr>\n",
       "      <th>75%</th>\n",
       "      <td>71749.038000</td>\n",
       "      <td>170.147337</td>\n",
       "      <td>48.817644</td>\n",
       "      <td>1.00000</td>\n",
       "    </tr>\n",
       "    <tr>\n",
       "      <th>max</th>\n",
       "      <td>92556.135462</td>\n",
       "      <td>196.503274</td>\n",
       "      <td>66.534646</td>\n",
       "      <td>1.00000</td>\n",
       "    </tr>\n",
       "  </tbody>\n",
       "</table>\n",
       "</div>"
      ],
      "text/plain": [
       "       total_income1      weight1          age      female\n",
       "count    1000.000000  1000.000000  1000.000000  1000.00000\n",
       "mean    64871.210860   149.542181    44.839320     0.50000\n",
       "std      9542.444214    22.028883     5.939185     0.50025\n",
       "min     31816.281649    99.662468    25.741333     0.00000\n",
       "25%     58349.862384   130.179235    41.025231     0.00000\n",
       "50%     65281.271149   149.758434    44.955981     0.50000\n",
       "75%     71749.038000   170.147337    48.817644     1.00000\n",
       "max     92556.135462   196.503274    66.534646     1.00000"
      ]
     },
     "execution_count": 123,
     "metadata": {},
     "output_type": "execute_result"
    }
   ],
   "source": [
    "SurveyIncome = pd.read_csv('SurvIncome.txt', names=['total_income1', 'weight1', 'age', 'female'])\n",
    "SurveyIncome.describe()"
   ]
  },
  {
   "cell_type": "markdown",
   "metadata": {},
   "source": [
    "#### (a) I will use a linear regression twice to derive the coefficients of the following equations from the SurveyIncome dataset:\n",
    "\n",
    "Equations I will use: \n",
    "age = B0 + total income1B1 + weight1B2 and female = BO + total income1B1 + weight1B2"
   ]
  },
  {
   "cell_type": "code",
   "execution_count": 124,
   "metadata": {},
   "outputs": [],
   "source": [
    "#For the linear regression for age:\n",
    "outcome = 'age'\n",
    "features = ['total_income1', 'weight1']\n",
    "x, y = SurveyIncome[features], SurveyIncome[outcome] "
   ]
  },
  {
   "cell_type": "code",
   "execution_count": 125,
   "metadata": {},
   "outputs": [
    {
     "data": {
      "text/html": [
       "<div>\n",
       "<style scoped>\n",
       "    .dataframe tbody tr th:only-of-type {\n",
       "        vertical-align: middle;\n",
       "    }\n",
       "\n",
       "    .dataframe tbody tr th {\n",
       "        vertical-align: top;\n",
       "    }\n",
       "\n",
       "    .dataframe thead th {\n",
       "        text-align: right;\n",
       "    }\n",
       "</style>\n",
       "<table border=\"1\" class=\"dataframe\">\n",
       "  <thead>\n",
       "    <tr style=\"text-align: right;\">\n",
       "      <th></th>\n",
       "      <th>total_income1</th>\n",
       "      <th>weight1</th>\n",
       "    </tr>\n",
       "  </thead>\n",
       "  <tbody>\n",
       "    <tr>\n",
       "      <th>0</th>\n",
       "      <td>63642.513655</td>\n",
       "      <td>134.998269</td>\n",
       "    </tr>\n",
       "    <tr>\n",
       "      <th>1</th>\n",
       "      <td>49177.380692</td>\n",
       "      <td>134.392957</td>\n",
       "    </tr>\n",
       "    <tr>\n",
       "      <th>2</th>\n",
       "      <td>67833.339128</td>\n",
       "      <td>126.482992</td>\n",
       "    </tr>\n",
       "    <tr>\n",
       "      <th>3</th>\n",
       "      <td>62962.266217</td>\n",
       "      <td>128.038121</td>\n",
       "    </tr>\n",
       "    <tr>\n",
       "      <th>4</th>\n",
       "      <td>58716.952597</td>\n",
       "      <td>126.211980</td>\n",
       "    </tr>\n",
       "  </tbody>\n",
       "</table>\n",
       "</div>"
      ],
      "text/plain": [
       "   total_income1     weight1\n",
       "0   63642.513655  134.998269\n",
       "1   49177.380692  134.392957\n",
       "2   67833.339128  126.482992\n",
       "3   62962.266217  128.038121\n",
       "4   58716.952597  126.211980"
      ]
     },
     "execution_count": 125,
     "metadata": {},
     "output_type": "execute_result"
    }
   ],
   "source": [
    "#Testing if the X and Y variables are correct:\n",
    "x.head()"
   ]
  },
  {
   "cell_type": "code",
   "execution_count": 126,
   "metadata": {},
   "outputs": [
    {
     "data": {
      "text/plain": [
       "0    46.610021\n",
       "1    48.791349\n",
       "2    48.429894\n",
       "3    41.543926\n",
       "4    41.201245\n",
       "Name: age, dtype: float64"
      ]
     },
     "execution_count": 126,
     "metadata": {},
     "output_type": "execute_result"
    }
   ],
   "source": [
    "y.head()"
   ]
  },
  {
   "cell_type": "code",
   "execution_count": 127,
   "metadata": {},
   "outputs": [
    {
     "name": "stdout",
     "output_type": "stream",
     "text": [
      "                            OLS Regression Results                            \n",
      "==============================================================================\n",
      "Dep. Variable:                    age   R-squared:                       0.001\n",
      "Model:                            OLS   Adj. R-squared:                 -0.001\n",
      "Method:                 Least Squares   F-statistic:                    0.6326\n",
      "Date:                Tue, 16 Oct 2018   Prob (F-statistic):              0.531\n",
      "Time:                        20:10:45   Log-Likelihood:                -3199.4\n",
      "No. Observations:                1000   AIC:                             6405.\n",
      "Df Residuals:                     997   BIC:                             6419.\n",
      "Df Model:                           2                                         \n",
      "Covariance Type:            nonrobust                                         \n",
      "=================================================================================\n",
      "                    coef    std err          t      P>|t|      [0.025      0.975]\n",
      "---------------------------------------------------------------------------------\n",
      "total_income1   2.52e-05   2.26e-05      1.114      0.266   -1.92e-05    6.96e-05\n",
      "weight1          -0.0067      0.010     -0.686      0.493      -0.026       0.013\n",
      "const            44.2097      1.490     29.666      0.000      41.285      47.134\n",
      "==============================================================================\n",
      "Omnibus:                        2.460   Durbin-Watson:                   1.921\n",
      "Prob(Omnibus):                  0.292   Jarque-Bera (JB):                2.322\n",
      "Skew:                          -0.109   Prob(JB):                        0.313\n",
      "Kurtosis:                       3.092   Cond. No.                     5.20e+05\n",
      "==============================================================================\n",
      "\n",
      "Warnings:\n",
      "[1] Standard Errors assume that the covariance matrix of the errors is correctly specified.\n",
      "[2] The condition number is large, 5.2e+05. This might indicate that there are\n",
      "strong multicollinearity or other numerical problems.\n"
     ]
    }
   ],
   "source": [
    "#Running the linear regression for age\n",
    "import statsmodels.api as sm\n",
    "\n",
    "x = sm.add_constant(x, prepend=False)\n",
    "x.head()\n",
    "\n",
    "m = sm.OLS(y, x)\n",
    "\n",
    "res = m.fit()\n",
    "print(res.summary())"
   ]
  },
  {
   "cell_type": "code",
   "execution_count": 128,
   "metadata": {},
   "outputs": [
    {
     "data": {
      "text/html": [
       "<div>\n",
       "<style scoped>\n",
       "    .dataframe tbody tr th:only-of-type {\n",
       "        vertical-align: middle;\n",
       "    }\n",
       "\n",
       "    .dataframe tbody tr th {\n",
       "        vertical-align: top;\n",
       "    }\n",
       "\n",
       "    .dataframe thead th {\n",
       "        text-align: right;\n",
       "    }\n",
       "</style>\n",
       "<table border=\"1\" class=\"dataframe\">\n",
       "  <thead>\n",
       "    <tr style=\"text-align: right;\">\n",
       "      <th></th>\n",
       "      <th>age</th>\n",
       "      <th>total_income1</th>\n",
       "      <th>weight1</th>\n",
       "      <th>const</th>\n",
       "    </tr>\n",
       "  </thead>\n",
       "  <tbody>\n",
       "    <tr>\n",
       "      <th>0</th>\n",
       "      <td>46.610021</td>\n",
       "      <td>63642.513655</td>\n",
       "      <td>134.998269</td>\n",
       "      <td>1.0</td>\n",
       "    </tr>\n",
       "    <tr>\n",
       "      <th>1</th>\n",
       "      <td>48.791349</td>\n",
       "      <td>49177.380692</td>\n",
       "      <td>134.392957</td>\n",
       "      <td>1.0</td>\n",
       "    </tr>\n",
       "    <tr>\n",
       "      <th>2</th>\n",
       "      <td>48.429894</td>\n",
       "      <td>67833.339128</td>\n",
       "      <td>126.482992</td>\n",
       "      <td>1.0</td>\n",
       "    </tr>\n",
       "    <tr>\n",
       "      <th>3</th>\n",
       "      <td>41.543926</td>\n",
       "      <td>62962.266217</td>\n",
       "      <td>128.038121</td>\n",
       "      <td>1.0</td>\n",
       "    </tr>\n",
       "    <tr>\n",
       "      <th>4</th>\n",
       "      <td>41.201245</td>\n",
       "      <td>58716.952597</td>\n",
       "      <td>126.211980</td>\n",
       "      <td>1.0</td>\n",
       "    </tr>\n",
       "  </tbody>\n",
       "</table>\n",
       "</div>"
      ],
      "text/plain": [
       "         age  total_income1     weight1  const\n",
       "0  46.610021   63642.513655  134.998269    1.0\n",
       "1  48.791349   49177.380692  134.392957    1.0\n",
       "2  48.429894   67833.339128  126.482992    1.0\n",
       "3  41.543926   62962.266217  128.038121    1.0\n",
       "4  41.201245   58716.952597  126.211980    1.0"
      ]
     },
     "execution_count": 128,
     "metadata": {},
     "output_type": "execute_result"
    }
   ],
   "source": [
    "#Saving prediction of model for age\n",
    "ols_df = pd.concat([y, x], axis=1)\n",
    "ols_df.head()"
   ]
  },
  {
   "cell_type": "code",
   "execution_count": 129,
   "metadata": {},
   "outputs": [
    {
     "data": {
      "text/html": [
       "<div>\n",
       "<style scoped>\n",
       "    .dataframe tbody tr th:only-of-type {\n",
       "        vertical-align: middle;\n",
       "    }\n",
       "\n",
       "    .dataframe tbody tr th {\n",
       "        vertical-align: top;\n",
       "    }\n",
       "\n",
       "    .dataframe thead th {\n",
       "        text-align: right;\n",
       "    }\n",
       "</style>\n",
       "<table border=\"1\" class=\"dataframe\">\n",
       "  <thead>\n",
       "    <tr style=\"text-align: right;\">\n",
       "      <th></th>\n",
       "      <th>age</th>\n",
       "      <th>total_income1</th>\n",
       "      <th>weight1</th>\n",
       "      <th>const</th>\n",
       "      <th>age_pred</th>\n",
       "    </tr>\n",
       "  </thead>\n",
       "  <tbody>\n",
       "    <tr>\n",
       "      <th>0</th>\n",
       "      <td>46.610021</td>\n",
       "      <td>63642.513655</td>\n",
       "      <td>134.998269</td>\n",
       "      <td>1.0</td>\n",
       "      <td>44.906121</td>\n",
       "    </tr>\n",
       "    <tr>\n",
       "      <th>1</th>\n",
       "      <td>48.791349</td>\n",
       "      <td>49177.380692</td>\n",
       "      <td>134.392957</td>\n",
       "      <td>1.0</td>\n",
       "      <td>44.545636</td>\n",
       "    </tr>\n",
       "    <tr>\n",
       "      <th>2</th>\n",
       "      <td>48.429894</td>\n",
       "      <td>67833.339128</td>\n",
       "      <td>126.482992</td>\n",
       "      <td>1.0</td>\n",
       "      <td>45.068980</td>\n",
       "    </tr>\n",
       "    <tr>\n",
       "      <th>3</th>\n",
       "      <td>41.543926</td>\n",
       "      <td>62962.266217</td>\n",
       "      <td>128.038121</td>\n",
       "      <td>1.0</td>\n",
       "      <td>44.935764</td>\n",
       "    </tr>\n",
       "    <tr>\n",
       "      <th>4</th>\n",
       "      <td>41.201245</td>\n",
       "      <td>58716.952597</td>\n",
       "      <td>126.211980</td>\n",
       "      <td>1.0</td>\n",
       "      <td>44.841048</td>\n",
       "    </tr>\n",
       "  </tbody>\n",
       "</table>\n",
       "</div>"
      ],
      "text/plain": [
       "         age  total_income1     weight1  const   age_pred\n",
       "0  46.610021   63642.513655  134.998269    1.0  44.906121\n",
       "1  48.791349   49177.380692  134.392957    1.0  44.545636\n",
       "2  48.429894   67833.339128  126.482992    1.0  45.068980\n",
       "3  41.543926   62962.266217  128.038121    1.0  44.935764\n",
       "4  41.201245   58716.952597  126.211980    1.0  44.841048"
      ]
     },
     "execution_count": 129,
     "metadata": {},
     "output_type": "execute_result"
    }
   ],
   "source": [
    "#Adding model prediction of age to the SurveyIncome dataset\n",
    "ols_df['age_pred'] = res.predict(x)\n",
    "ols_df.head()"
   ]
  },
  {
   "cell_type": "code",
   "execution_count": 130,
   "metadata": {},
   "outputs": [
    {
     "name": "stdout",
     "output_type": "stream",
     "text": [
      "                            OLS Regression Results                            \n",
      "==============================================================================\n",
      "Dep. Variable:                 female   R-squared:                       0.834\n",
      "Model:                            OLS   Adj. R-squared:                  0.834\n",
      "Method:                 Least Squares   F-statistic:                     2513.\n",
      "Date:                Tue, 16 Oct 2018   Prob (F-statistic):               0.00\n",
      "Time:                        20:10:50   Log-Likelihood:                 173.49\n",
      "No. Observations:                1000   AIC:                            -341.0\n",
      "Df Residuals:                     997   BIC:                            -326.3\n",
      "Df Model:                           2                                         \n",
      "Covariance Type:            nonrobust                                         \n",
      "=================================================================================\n",
      "                    coef    std err          t      P>|t|      [0.025      0.975]\n",
      "---------------------------------------------------------------------------------\n",
      "total_income1  -5.25e-06   7.76e-07     -6.765      0.000   -6.77e-06   -3.73e-06\n",
      "weight1          -0.0195      0.000    -58.098      0.000      -0.020      -0.019\n",
      "const             3.7611      0.051     73.600      0.000       3.661       3.861\n",
      "==============================================================================\n",
      "Omnibus:                        0.170   Durbin-Watson:                   1.634\n",
      "Prob(Omnibus):                  0.918   Jarque-Bera (JB):                0.114\n",
      "Skew:                          -0.022   Prob(JB):                        0.945\n",
      "Kurtosis:                       3.029   Cond. No.                     5.20e+05\n",
      "==============================================================================\n",
      "\n",
      "Warnings:\n",
      "[1] Standard Errors assume that the covariance matrix of the errors is correctly specified.\n",
      "[2] The condition number is large, 5.2e+05. This might indicate that there are\n",
      "strong multicollinearity or other numerical problems.\n"
     ]
    }
   ],
   "source": [
    "#Running linear regression on gender (female) as gender \n",
    "outcome = 'female'\n",
    "features = ['total_income1', 'weight1']\n",
    "X, y = SurveyIncome[features], SurveyIncome[outcome] \n",
    "\n",
    "import statsmodels.api as sm\n",
    "\n",
    "X = sm.add_constant(X, prepend=False)\n",
    "X.head()\n",
    "\n",
    "m = sm.OLS(y, X)\n",
    "\n",
    "res = m.fit()\n",
    "print(res.summary())"
   ]
  },
  {
   "cell_type": "code",
   "execution_count": 131,
   "metadata": {},
   "outputs": [
    {
     "data": {
      "text/html": [
       "<div>\n",
       "<style scoped>\n",
       "    .dataframe tbody tr th:only-of-type {\n",
       "        vertical-align: middle;\n",
       "    }\n",
       "\n",
       "    .dataframe tbody tr th {\n",
       "        vertical-align: top;\n",
       "    }\n",
       "\n",
       "    .dataframe thead th {\n",
       "        text-align: right;\n",
       "    }\n",
       "</style>\n",
       "<table border=\"1\" class=\"dataframe\">\n",
       "  <thead>\n",
       "    <tr style=\"text-align: right;\">\n",
       "      <th></th>\n",
       "      <th>female</th>\n",
       "      <th>total_income1</th>\n",
       "      <th>weight1</th>\n",
       "      <th>const</th>\n",
       "    </tr>\n",
       "  </thead>\n",
       "  <tbody>\n",
       "    <tr>\n",
       "      <th>0</th>\n",
       "      <td>1.0</td>\n",
       "      <td>63642.513655</td>\n",
       "      <td>134.998269</td>\n",
       "      <td>1.0</td>\n",
       "    </tr>\n",
       "    <tr>\n",
       "      <th>1</th>\n",
       "      <td>1.0</td>\n",
       "      <td>49177.380692</td>\n",
       "      <td>134.392957</td>\n",
       "      <td>1.0</td>\n",
       "    </tr>\n",
       "    <tr>\n",
       "      <th>2</th>\n",
       "      <td>1.0</td>\n",
       "      <td>67833.339128</td>\n",
       "      <td>126.482992</td>\n",
       "      <td>1.0</td>\n",
       "    </tr>\n",
       "    <tr>\n",
       "      <th>3</th>\n",
       "      <td>1.0</td>\n",
       "      <td>62962.266217</td>\n",
       "      <td>128.038121</td>\n",
       "      <td>1.0</td>\n",
       "    </tr>\n",
       "    <tr>\n",
       "      <th>4</th>\n",
       "      <td>1.0</td>\n",
       "      <td>58716.952597</td>\n",
       "      <td>126.211980</td>\n",
       "      <td>1.0</td>\n",
       "    </tr>\n",
       "  </tbody>\n",
       "</table>\n",
       "</div>"
      ],
      "text/plain": [
       "   female  total_income1     weight1  const\n",
       "0     1.0   63642.513655  134.998269    1.0\n",
       "1     1.0   49177.380692  134.392957    1.0\n",
       "2     1.0   67833.339128  126.482992    1.0\n",
       "3     1.0   62962.266217  128.038121    1.0\n",
       "4     1.0   58716.952597  126.211980    1.0"
      ]
     },
     "execution_count": 131,
     "metadata": {},
     "output_type": "execute_result"
    }
   ],
   "source": [
    "#Saving prediction of model for gender\n",
    "ols_df = pd.concat([y, x], axis=1)\n",
    "ols_df.head()"
   ]
  },
  {
   "cell_type": "code",
   "execution_count": 132,
   "metadata": {},
   "outputs": [
    {
     "data": {
      "text/html": [
       "<div>\n",
       "<style scoped>\n",
       "    .dataframe tbody tr th:only-of-type {\n",
       "        vertical-align: middle;\n",
       "    }\n",
       "\n",
       "    .dataframe tbody tr th {\n",
       "        vertical-align: top;\n",
       "    }\n",
       "\n",
       "    .dataframe thead th {\n",
       "        text-align: right;\n",
       "    }\n",
       "</style>\n",
       "<table border=\"1\" class=\"dataframe\">\n",
       "  <thead>\n",
       "    <tr style=\"text-align: right;\">\n",
       "      <th></th>\n",
       "      <th>female</th>\n",
       "      <th>total_income1</th>\n",
       "      <th>weight1</th>\n",
       "      <th>const</th>\n",
       "      <th>gender_pred</th>\n",
       "    </tr>\n",
       "  </thead>\n",
       "  <tbody>\n",
       "    <tr>\n",
       "      <th>0</th>\n",
       "      <td>1.0</td>\n",
       "      <td>63642.513655</td>\n",
       "      <td>134.998269</td>\n",
       "      <td>1.0</td>\n",
       "      <td>0.790496</td>\n",
       "    </tr>\n",
       "    <tr>\n",
       "      <th>1</th>\n",
       "      <td>1.0</td>\n",
       "      <td>49177.380692</td>\n",
       "      <td>134.392957</td>\n",
       "      <td>1.0</td>\n",
       "      <td>0.878254</td>\n",
       "    </tr>\n",
       "    <tr>\n",
       "      <th>2</th>\n",
       "      <td>1.0</td>\n",
       "      <td>67833.339128</td>\n",
       "      <td>126.482992</td>\n",
       "      <td>1.0</td>\n",
       "      <td>0.934802</td>\n",
       "    </tr>\n",
       "    <tr>\n",
       "      <th>3</th>\n",
       "      <td>1.0</td>\n",
       "      <td>62962.266217</td>\n",
       "      <td>128.038121</td>\n",
       "      <td>1.0</td>\n",
       "      <td>0.930001</td>\n",
       "    </tr>\n",
       "    <tr>\n",
       "      <th>4</th>\n",
       "      <td>1.0</td>\n",
       "      <td>58716.952597</td>\n",
       "      <td>126.211980</td>\n",
       "      <td>1.0</td>\n",
       "      <td>0.987952</td>\n",
       "    </tr>\n",
       "  </tbody>\n",
       "</table>\n",
       "</div>"
      ],
      "text/plain": [
       "   female  total_income1     weight1  const  gender_pred\n",
       "0     1.0   63642.513655  134.998269    1.0     0.790496\n",
       "1     1.0   49177.380692  134.392957    1.0     0.878254\n",
       "2     1.0   67833.339128  126.482992    1.0     0.934802\n",
       "3     1.0   62962.266217  128.038121    1.0     0.930001\n",
       "4     1.0   58716.952597  126.211980    1.0     0.987952"
      ]
     },
     "execution_count": 132,
     "metadata": {},
     "output_type": "execute_result"
    }
   ],
   "source": [
    "#Adding model prediction for gender to the SurveyIncome dataset\n",
    "ols_df['gender_pred'] = res.predict(x)\n",
    "ols_df.head()"
   ]
  },
  {
   "cell_type": "markdown",
   "metadata": {},
   "source": [
    "#### (b) Imputing the variables into the BestIncome dataset"
   ]
  },
  {
   "cell_type": "code",
   "execution_count": 133,
   "metadata": {},
   "outputs": [
    {
     "data": {
      "text/html": [
       "<div>\n",
       "<style scoped>\n",
       "    .dataframe tbody tr th:only-of-type {\n",
       "        vertical-align: middle;\n",
       "    }\n",
       "\n",
       "    .dataframe tbody tr th {\n",
       "        vertical-align: top;\n",
       "    }\n",
       "\n",
       "    .dataframe thead th {\n",
       "        text-align: right;\n",
       "    }\n",
       "</style>\n",
       "<table border=\"1\" class=\"dataframe\">\n",
       "  <thead>\n",
       "    <tr style=\"text-align: right;\">\n",
       "      <th></th>\n",
       "      <th>labor income</th>\n",
       "      <th>capital income</th>\n",
       "      <th>height</th>\n",
       "      <th>weight</th>\n",
       "      <th>total_income</th>\n",
       "    </tr>\n",
       "  </thead>\n",
       "  <tbody>\n",
       "    <tr>\n",
       "      <th>0</th>\n",
       "      <td>52655.605507</td>\n",
       "      <td>9279.509829</td>\n",
       "      <td>64.568138</td>\n",
       "      <td>152.920634</td>\n",
       "      <td>61935.115336</td>\n",
       "    </tr>\n",
       "    <tr>\n",
       "      <th>1</th>\n",
       "      <td>70586.979225</td>\n",
       "      <td>9451.016902</td>\n",
       "      <td>65.727648</td>\n",
       "      <td>159.534414</td>\n",
       "      <td>80037.996127</td>\n",
       "    </tr>\n",
       "    <tr>\n",
       "      <th>2</th>\n",
       "      <td>53738.008339</td>\n",
       "      <td>8078.132315</td>\n",
       "      <td>66.268796</td>\n",
       "      <td>152.502405</td>\n",
       "      <td>61816.140654</td>\n",
       "    </tr>\n",
       "    <tr>\n",
       "      <th>3</th>\n",
       "      <td>55128.180903</td>\n",
       "      <td>12692.670403</td>\n",
       "      <td>62.910559</td>\n",
       "      <td>149.218189</td>\n",
       "      <td>67820.851305</td>\n",
       "    </tr>\n",
       "    <tr>\n",
       "      <th>4</th>\n",
       "      <td>44482.794867</td>\n",
       "      <td>9812.975746</td>\n",
       "      <td>68.678295</td>\n",
       "      <td>152.726358</td>\n",
       "      <td>54295.770612</td>\n",
       "    </tr>\n",
       "  </tbody>\n",
       "</table>\n",
       "</div>"
      ],
      "text/plain": [
       "   labor income  capital income     height      weight  total_income\n",
       "0  52655.605507     9279.509829  64.568138  152.920634  61935.115336\n",
       "1  70586.979225     9451.016902  65.727648  159.534414  80037.996127\n",
       "2  53738.008339     8078.132315  66.268796  152.502405  61816.140654\n",
       "3  55128.180903    12692.670403  62.910559  149.218189  67820.851305\n",
       "4  44482.794867     9812.975746  68.678295  152.726358  54295.770612"
      ]
     },
     "execution_count": 133,
     "metadata": {},
     "output_type": "execute_result"
    }
   ],
   "source": [
    "#For us to estimate age and gender (female) on the BestIncome dataset, and use the following equations from SurveyIncome,\n",
    "\n",
    "#age = B0 + total incomeB1 + weightB2 \n",
    "#female = BO + total incomeB1 + weightB2 \n",
    "\n",
    "#We need to add labor income and capital income to equate to total income in the BestIncome dataset.\n",
    "BestIncome['total_income'] = BestIncome['labor income'] + BestIncome['capital income']\n",
    "BestIncome.head()"
   ]
  },
  {
   "cell_type": "code",
   "execution_count": 134,
   "metadata": {},
   "outputs": [
    {
     "data": {
      "text/plain": [
       "41.701420253594"
      ]
     },
     "execution_count": 134,
     "metadata": {},
     "output_type": "execute_result"
    }
   ],
   "source": [
    "#Adding the equation of predicted age (age_pred) from the SurveyIncome dataset to the BestIncome dataset\n",
    "def age_pred(row):\n",
    "    \n",
    "    total_income = row[0]\n",
    "    weight = row[1]\n",
    "    \n",
    "    age_pred = 44.2097+(total_income*-2.52e-05)+(weight*-0.0067)\n",
    "    return age_pred\n",
    "age_pred([63642.513655, 134.998269])"
   ]
  },
  {
   "cell_type": "code",
   "execution_count": 135,
   "metadata": {},
   "outputs": [
    {
     "data": {
      "text/html": [
       "<div>\n",
       "<style scoped>\n",
       "    .dataframe tbody tr th:only-of-type {\n",
       "        vertical-align: middle;\n",
       "    }\n",
       "\n",
       "    .dataframe tbody tr th {\n",
       "        vertical-align: top;\n",
       "    }\n",
       "\n",
       "    .dataframe thead th {\n",
       "        text-align: right;\n",
       "    }\n",
       "</style>\n",
       "<table border=\"1\" class=\"dataframe\">\n",
       "  <thead>\n",
       "    <tr style=\"text-align: right;\">\n",
       "      <th></th>\n",
       "      <th>labor income</th>\n",
       "      <th>capital income</th>\n",
       "      <th>height</th>\n",
       "      <th>weight</th>\n",
       "      <th>total_income</th>\n",
       "      <th>imputed_age</th>\n",
       "    </tr>\n",
       "  </thead>\n",
       "  <tbody>\n",
       "    <tr>\n",
       "      <th>0</th>\n",
       "      <td>52655.605507</td>\n",
       "      <td>9279.509829</td>\n",
       "      <td>64.568138</td>\n",
       "      <td>152.920634</td>\n",
       "      <td>61935.115336</td>\n",
       "      <td>41.624367</td>\n",
       "    </tr>\n",
       "    <tr>\n",
       "      <th>1</th>\n",
       "      <td>70586.979225</td>\n",
       "      <td>9451.016902</td>\n",
       "      <td>65.727648</td>\n",
       "      <td>159.534414</td>\n",
       "      <td>80037.996127</td>\n",
       "      <td>41.123862</td>\n",
       "    </tr>\n",
       "    <tr>\n",
       "      <th>2</th>\n",
       "      <td>53738.008339</td>\n",
       "      <td>8078.132315</td>\n",
       "      <td>66.268796</td>\n",
       "      <td>152.502405</td>\n",
       "      <td>61816.140654</td>\n",
       "      <td>41.630167</td>\n",
       "    </tr>\n",
       "    <tr>\n",
       "      <th>3</th>\n",
       "      <td>55128.180903</td>\n",
       "      <td>12692.670403</td>\n",
       "      <td>62.910559</td>\n",
       "      <td>149.218189</td>\n",
       "      <td>67820.851305</td>\n",
       "      <td>41.500853</td>\n",
       "    </tr>\n",
       "    <tr>\n",
       "      <th>4</th>\n",
       "      <td>44482.794867</td>\n",
       "      <td>9812.975746</td>\n",
       "      <td>68.678295</td>\n",
       "      <td>152.726358</td>\n",
       "      <td>54295.770612</td>\n",
       "      <td>41.818180</td>\n",
       "    </tr>\n",
       "  </tbody>\n",
       "</table>\n",
       "</div>"
      ],
      "text/plain": [
       "   labor income  capital income     height      weight  total_income  \\\n",
       "0  52655.605507     9279.509829  64.568138  152.920634  61935.115336   \n",
       "1  70586.979225     9451.016902  65.727648  159.534414  80037.996127   \n",
       "2  53738.008339     8078.132315  66.268796  152.502405  61816.140654   \n",
       "3  55128.180903    12692.670403  62.910559  149.218189  67820.851305   \n",
       "4  44482.794867     9812.975746  68.678295  152.726358  54295.770612   \n",
       "\n",
       "   imputed_age  \n",
       "0    41.624367  \n",
       "1    41.123862  \n",
       "2    41.630167  \n",
       "3    41.500853  \n",
       "4    41.818180  "
      ]
     },
     "execution_count": 135,
     "metadata": {},
     "output_type": "execute_result"
    }
   ],
   "source": [
    "#Adding the imputed age variable (imputed_age) into the BestIncome dataset\n",
    "BestIncome['imputed_age'] = BestIncome[['total_income', 'weight']].apply(age_pred, axis=1) \n",
    "BestIncome.head()"
   ]
  },
  {
   "cell_type": "code",
   "execution_count": 136,
   "metadata": {},
   "outputs": [
    {
     "data": {
      "text/plain": [
       "1"
      ]
     },
     "execution_count": 136,
     "metadata": {},
     "output_type": "execute_result"
    }
   ],
   "source": [
    "#Adding the equation of female (gender_pred) from the SurveyIncome dataset to the BestIncome dataset\n",
    "def gender_pred(row):\n",
    "    \n",
    "    total_income = row[0]\n",
    "    weight = row[1]\n",
    "    \n",
    "    gender_pred = 3.7611+(total_income*-5.25e-06)+(weight*-0.0195)\n",
    "    if gender_pred < 0.5:\n",
    "        return 0\n",
    "    elif gender_pred >= 0.5:\n",
    "        return 1\n",
    "\n",
    "gender_pred([63642.513655, 134.998269])\n"
   ]
  },
  {
   "cell_type": "code",
   "execution_count": 137,
   "metadata": {},
   "outputs": [
    {
     "data": {
      "text/html": [
       "<div>\n",
       "<style scoped>\n",
       "    .dataframe tbody tr th:only-of-type {\n",
       "        vertical-align: middle;\n",
       "    }\n",
       "\n",
       "    .dataframe tbody tr th {\n",
       "        vertical-align: top;\n",
       "    }\n",
       "\n",
       "    .dataframe thead th {\n",
       "        text-align: right;\n",
       "    }\n",
       "</style>\n",
       "<table border=\"1\" class=\"dataframe\">\n",
       "  <thead>\n",
       "    <tr style=\"text-align: right;\">\n",
       "      <th></th>\n",
       "      <th>labor income</th>\n",
       "      <th>capital income</th>\n",
       "      <th>height</th>\n",
       "      <th>weight</th>\n",
       "      <th>total_income</th>\n",
       "      <th>imputed_age</th>\n",
       "      <th>imputed_gender_pred</th>\n",
       "    </tr>\n",
       "  </thead>\n",
       "  <tbody>\n",
       "    <tr>\n",
       "      <th>0</th>\n",
       "      <td>52655.605507</td>\n",
       "      <td>9279.509829</td>\n",
       "      <td>64.568138</td>\n",
       "      <td>152.920634</td>\n",
       "      <td>61935.115336</td>\n",
       "      <td>41.624367</td>\n",
       "      <td>0</td>\n",
       "    </tr>\n",
       "    <tr>\n",
       "      <th>1</th>\n",
       "      <td>70586.979225</td>\n",
       "      <td>9451.016902</td>\n",
       "      <td>65.727648</td>\n",
       "      <td>159.534414</td>\n",
       "      <td>80037.996127</td>\n",
       "      <td>41.123862</td>\n",
       "      <td>0</td>\n",
       "    </tr>\n",
       "    <tr>\n",
       "      <th>2</th>\n",
       "      <td>53738.008339</td>\n",
       "      <td>8078.132315</td>\n",
       "      <td>66.268796</td>\n",
       "      <td>152.502405</td>\n",
       "      <td>61816.140654</td>\n",
       "      <td>41.630167</td>\n",
       "      <td>0</td>\n",
       "    </tr>\n",
       "    <tr>\n",
       "      <th>3</th>\n",
       "      <td>55128.180903</td>\n",
       "      <td>12692.670403</td>\n",
       "      <td>62.910559</td>\n",
       "      <td>149.218189</td>\n",
       "      <td>67820.851305</td>\n",
       "      <td>41.500853</td>\n",
       "      <td>0</td>\n",
       "    </tr>\n",
       "    <tr>\n",
       "      <th>4</th>\n",
       "      <td>44482.794867</td>\n",
       "      <td>9812.975746</td>\n",
       "      <td>68.678295</td>\n",
       "      <td>152.726358</td>\n",
       "      <td>54295.770612</td>\n",
       "      <td>41.818180</td>\n",
       "      <td>0</td>\n",
       "    </tr>\n",
       "  </tbody>\n",
       "</table>\n",
       "</div>"
      ],
      "text/plain": [
       "   labor income  capital income     height      weight  total_income  \\\n",
       "0  52655.605507     9279.509829  64.568138  152.920634  61935.115336   \n",
       "1  70586.979225     9451.016902  65.727648  159.534414  80037.996127   \n",
       "2  53738.008339     8078.132315  66.268796  152.502405  61816.140654   \n",
       "3  55128.180903    12692.670403  62.910559  149.218189  67820.851305   \n",
       "4  44482.794867     9812.975746  68.678295  152.726358  54295.770612   \n",
       "\n",
       "   imputed_age  imputed_gender_pred  \n",
       "0    41.624367                    0  \n",
       "1    41.123862                    0  \n",
       "2    41.630167                    0  \n",
       "3    41.500853                    0  \n",
       "4    41.818180                    0  "
      ]
     },
     "execution_count": 137,
     "metadata": {},
     "output_type": "execute_result"
    }
   ],
   "source": [
    "BestIncome['imputed_gender_pred'] = BestIncome[['total_income', 'weight']].apply(gender_pred, axis=1)\n",
    "BestIncome.head()"
   ]
  },
  {
   "cell_type": "markdown",
   "metadata": {},
   "source": [
    "#### (c) Descriptive Statistics of age and gender"
   ]
  },
  {
   "cell_type": "code",
   "execution_count": 138,
   "metadata": {},
   "outputs": [
    {
     "data": {
      "text/plain": [
       "count    10000.000000\n",
       "mean        41.515284\n",
       "std          0.219817\n",
       "min         40.683056\n",
       "25%         41.365293\n",
       "50%         41.515710\n",
       "75%         41.664056\n",
       "max         42.373440\n",
       "Name: imputed_age, dtype: float64"
      ]
     },
     "execution_count": 138,
     "metadata": {},
     "output_type": "execute_result"
    }
   ],
   "source": [
    "BestIncome['imputed_age'].describe()"
   ]
  },
  {
   "cell_type": "markdown",
   "metadata": {},
   "source": [
    "The mean is 41.52, standard deviation is 0.22, maximum is 42.37, minimum is 40.68, number of observations is 10,000."
   ]
  },
  {
   "cell_type": "code",
   "execution_count": 139,
   "metadata": {},
   "outputs": [
    {
     "data": {
      "text/plain": [
       "count    10000.000000\n",
       "mean         0.470500\n",
       "std          0.499154\n",
       "min          0.000000\n",
       "25%          0.000000\n",
       "50%          0.000000\n",
       "75%          1.000000\n",
       "max          1.000000\n",
       "Name: imputed_gender_pred, dtype: float64"
      ]
     },
     "execution_count": 139,
     "metadata": {},
     "output_type": "execute_result"
    }
   ],
   "source": [
    "BestIncome['imputed_gender_pred'].describe()"
   ]
  },
  {
   "cell_type": "markdown",
   "metadata": {},
   "source": [
    "The mean is 0.47, standard deviation is 0.50, maximum is 1.00, minimum is 0.00, number of observations is 10,000."
   ]
  },
  {
   "cell_type": "markdown",
   "metadata": {},
   "source": [
    "#### (d) Correlation Matrix"
   ]
  },
  {
   "cell_type": "code",
   "execution_count": 140,
   "metadata": {},
   "outputs": [
    {
     "data": {
      "text/html": [
       "<style  type=\"text/css\" >\n",
       "    #T_97cbbc52_d1a9_11e8_8df9_48bf6bf19648row0_col0 {\n",
       "            background-color:  #023858;\n",
       "        }    #T_97cbbc52_d1a9_11e8_8df9_48bf6bf19648row0_col1 {\n",
       "            background-color:  #dcdaeb;\n",
       "        }    #T_97cbbc52_d1a9_11e8_8df9_48bf6bf19648row0_col2 {\n",
       "            background-color:  #ede8f3;\n",
       "        }    #T_97cbbc52_d1a9_11e8_8df9_48bf6bf19648row0_col3 {\n",
       "            background-color:  #8cb3d5;\n",
       "        }    #T_97cbbc52_d1a9_11e8_8df9_48bf6bf19648row0_col4 {\n",
       "            background-color:  #fff7fb;\n",
       "        }    #T_97cbbc52_d1a9_11e8_8df9_48bf6bf19648row0_col5 {\n",
       "            background-color:  #b0c2de;\n",
       "        }    #T_97cbbc52_d1a9_11e8_8df9_48bf6bf19648row1_col0 {\n",
       "            background-color:  #7bacd1;\n",
       "        }    #T_97cbbc52_d1a9_11e8_8df9_48bf6bf19648row1_col1 {\n",
       "            background-color:  #023858;\n",
       "        }    #T_97cbbc52_d1a9_11e8_8df9_48bf6bf19648row1_col2 {\n",
       "            background-color:  #e9e5f1;\n",
       "        }    #T_97cbbc52_d1a9_11e8_8df9_48bf6bf19648row1_col3 {\n",
       "            background-color:  #8cb3d5;\n",
       "        }    #T_97cbbc52_d1a9_11e8_8df9_48bf6bf19648row1_col4 {\n",
       "            background-color:  #acc0dd;\n",
       "        }    #T_97cbbc52_d1a9_11e8_8df9_48bf6bf19648row1_col5 {\n",
       "            background-color:  #97b7d7;\n",
       "        }    #T_97cbbc52_d1a9_11e8_8df9_48bf6bf19648row2_col0 {\n",
       "            background-color:  #7bacd1;\n",
       "        }    #T_97cbbc52_d1a9_11e8_8df9_48bf6bf19648row2_col1 {\n",
       "            background-color:  #d9d8ea;\n",
       "        }    #T_97cbbc52_d1a9_11e8_8df9_48bf6bf19648row2_col2 {\n",
       "            background-color:  #023858;\n",
       "        }    #T_97cbbc52_d1a9_11e8_8df9_48bf6bf19648row2_col3 {\n",
       "            background-color:  #63a2cb;\n",
       "        }    #T_97cbbc52_d1a9_11e8_8df9_48bf6bf19648row2_col4 {\n",
       "            background-color:  #89b1d4;\n",
       "        }    #T_97cbbc52_d1a9_11e8_8df9_48bf6bf19648row2_col5 {\n",
       "            background-color:  #abbfdc;\n",
       "        }    #T_97cbbc52_d1a9_11e8_8df9_48bf6bf19648row3_col0 {\n",
       "            background-color:  #7bacd1;\n",
       "        }    #T_97cbbc52_d1a9_11e8_8df9_48bf6bf19648row3_col1 {\n",
       "            background-color:  #dcdaeb;\n",
       "        }    #T_97cbbc52_d1a9_11e8_8df9_48bf6bf19648row3_col2 {\n",
       "            background-color:  #c9cee4;\n",
       "        }    #T_97cbbc52_d1a9_11e8_8df9_48bf6bf19648row3_col3 {\n",
       "            background-color:  #023858;\n",
       "        }    #T_97cbbc52_d1a9_11e8_8df9_48bf6bf19648row3_col4 {\n",
       "            background-color:  #b9c6e0;\n",
       "        }    #T_97cbbc52_d1a9_11e8_8df9_48bf6bf19648row3_col5 {\n",
       "            background-color:  #fff7fb;\n",
       "        }    #T_97cbbc52_d1a9_11e8_8df9_48bf6bf19648row4_col0 {\n",
       "            background-color:  #fff7fb;\n",
       "        }    #T_97cbbc52_d1a9_11e8_8df9_48bf6bf19648row4_col1 {\n",
       "            background-color:  #fff7fb;\n",
       "        }    #T_97cbbc52_d1a9_11e8_8df9_48bf6bf19648row4_col2 {\n",
       "            background-color:  #f5eff6;\n",
       "        }    #T_97cbbc52_d1a9_11e8_8df9_48bf6bf19648row4_col3 {\n",
       "            background-color:  #cccfe5;\n",
       "        }    #T_97cbbc52_d1a9_11e8_8df9_48bf6bf19648row4_col4 {\n",
       "            background-color:  #023858;\n",
       "        }    #T_97cbbc52_d1a9_11e8_8df9_48bf6bf19648row4_col5 {\n",
       "            background-color:  #2786bb;\n",
       "        }    #T_97cbbc52_d1a9_11e8_8df9_48bf6bf19648row5_col0 {\n",
       "            background-color:  #9ebad9;\n",
       "        }    #T_97cbbc52_d1a9_11e8_8df9_48bf6bf19648row5_col1 {\n",
       "            background-color:  #e6e2ef;\n",
       "        }    #T_97cbbc52_d1a9_11e8_8df9_48bf6bf19648row5_col2 {\n",
       "            background-color:  #fff7fb;\n",
       "        }    #T_97cbbc52_d1a9_11e8_8df9_48bf6bf19648row5_col3 {\n",
       "            background-color:  #fff7fb;\n",
       "        }    #T_97cbbc52_d1a9_11e8_8df9_48bf6bf19648row5_col4 {\n",
       "            background-color:  #1c7fb8;\n",
       "        }    #T_97cbbc52_d1a9_11e8_8df9_48bf6bf19648row5_col5 {\n",
       "            background-color:  #023858;\n",
       "        }</style>  \n",
       "<table id=\"T_97cbbc52_d1a9_11e8_8df9_48bf6bf19648\" > \n",
       "<thead>    <tr> \n",
       "        <th class=\"blank level0\" ></th> \n",
       "        <th class=\"col_heading level0 col0\" >labor income</th> \n",
       "        <th class=\"col_heading level0 col1\" >capital income</th> \n",
       "        <th class=\"col_heading level0 col2\" >height</th> \n",
       "        <th class=\"col_heading level0 col3\" >weight</th> \n",
       "        <th class=\"col_heading level0 col4\" >imputed_age</th> \n",
       "        <th class=\"col_heading level0 col5\" >imputed_gender_pred</th> \n",
       "    </tr></thead> \n",
       "<tbody>    <tr> \n",
       "        <th id=\"T_97cbbc52_d1a9_11e8_8df9_48bf6bf19648level0_row0\" class=\"row_heading level0 row0\" >labor income</th> \n",
       "        <td id=\"T_97cbbc52_d1a9_11e8_8df9_48bf6bf19648row0_col0\" class=\"data row0 col0\" >1</td> \n",
       "        <td id=\"T_97cbbc52_d1a9_11e8_8df9_48bf6bf19648row0_col1\" class=\"data row0 col1\" >0.0053253</td> \n",
       "        <td id=\"T_97cbbc52_d1a9_11e8_8df9_48bf6bf19648row0_col2\" class=\"data row0 col2\" >0.00278978</td> \n",
       "        <td id=\"T_97cbbc52_d1a9_11e8_8df9_48bf6bf19648row0_col3\" class=\"data row0 col3\" >0.00450691</td> \n",
       "        <td id=\"T_97cbbc52_d1a9_11e8_8df9_48bf6bf19648row0_col4\" class=\"data row0 col4\" >-0.923915</td> \n",
       "        <td id=\"T_97cbbc52_d1a9_11e8_8df9_48bf6bf19648row0_col5\" class=\"data row0 col5\" >-0.164857</td> \n",
       "    </tr>    <tr> \n",
       "        <th id=\"T_97cbbc52_d1a9_11e8_8df9_48bf6bf19648level0_row1\" class=\"row_heading level0 row1\" >capital income</th> \n",
       "        <td id=\"T_97cbbc52_d1a9_11e8_8df9_48bf6bf19648row1_col0\" class=\"data row1 col0\" >0.0053253</td> \n",
       "        <td id=\"T_97cbbc52_d1a9_11e8_8df9_48bf6bf19648row1_col1\" class=\"data row1 col1\" >1</td> \n",
       "        <td id=\"T_97cbbc52_d1a9_11e8_8df9_48bf6bf19648row1_col2\" class=\"data row1 col2\" >0.0215716</td> \n",
       "        <td id=\"T_97cbbc52_d1a9_11e8_8df9_48bf6bf19648row1_col3\" class=\"data row1 col3\" >0.00629868</td> \n",
       "        <td id=\"T_97cbbc52_d1a9_11e8_8df9_48bf6bf19648row1_col4\" class=\"data row1 col4\" >-0.237264</td> \n",
       "        <td id=\"T_97cbbc52_d1a9_11e8_8df9_48bf6bf19648row1_col5\" class=\"data row1 col5\" >-0.0465937</td> \n",
       "    </tr>    <tr> \n",
       "        <th id=\"T_97cbbc52_d1a9_11e8_8df9_48bf6bf19648level0_row2\" class=\"row_heading level0 row2\" >height</th> \n",
       "        <td id=\"T_97cbbc52_d1a9_11e8_8df9_48bf6bf19648row2_col0\" class=\"data row2 col0\" >0.00278978</td> \n",
       "        <td id=\"T_97cbbc52_d1a9_11e8_8df9_48bf6bf19648row2_col1\" class=\"data row2 col1\" >0.0215716</td> \n",
       "        <td id=\"T_97cbbc52_d1a9_11e8_8df9_48bf6bf19648row2_col2\" class=\"data row2 col2\" >1</td> \n",
       "        <td id=\"T_97cbbc52_d1a9_11e8_8df9_48bf6bf19648row2_col3\" class=\"data row2 col3\" >0.172103</td> \n",
       "        <td id=\"T_97cbbc52_d1a9_11e8_8df9_48bf6bf19648row2_col4\" class=\"data row2 col4\" >-0.0598565</td> \n",
       "        <td id=\"T_97cbbc52_d1a9_11e8_8df9_48bf6bf19648row2_col5\" class=\"data row2 col5\" >-0.134172</td> \n",
       "    </tr>    <tr> \n",
       "        <th id=\"T_97cbbc52_d1a9_11e8_8df9_48bf6bf19648level0_row3\" class=\"row_heading level0 row3\" >weight</th> \n",
       "        <td id=\"T_97cbbc52_d1a9_11e8_8df9_48bf6bf19648row3_col0\" class=\"data row3 col0\" >0.00450691</td> \n",
       "        <td id=\"T_97cbbc52_d1a9_11e8_8df9_48bf6bf19648row3_col1\" class=\"data row3 col1\" >0.00629868</td> \n",
       "        <td id=\"T_97cbbc52_d1a9_11e8_8df9_48bf6bf19648row3_col2\" class=\"data row3 col2\" >0.172103</td> \n",
       "        <td id=\"T_97cbbc52_d1a9_11e8_8df9_48bf6bf19648row3_col3\" class=\"data row3 col3\" >1</td> \n",
       "        <td id=\"T_97cbbc52_d1a9_11e8_8df9_48bf6bf19648row3_col4\" class=\"data row3 col4\" >-0.30958</td> \n",
       "        <td id=\"T_97cbbc52_d1a9_11e8_8df9_48bf6bf19648row3_col5\" class=\"data row3 col5\" >-0.778537</td> \n",
       "    </tr>    <tr> \n",
       "        <th id=\"T_97cbbc52_d1a9_11e8_8df9_48bf6bf19648level0_row4\" class=\"row_heading level0 row4\" >imputed_age</th> \n",
       "        <td id=\"T_97cbbc52_d1a9_11e8_8df9_48bf6bf19648row4_col0\" class=\"data row4 col0\" >-0.923915</td> \n",
       "        <td id=\"T_97cbbc52_d1a9_11e8_8df9_48bf6bf19648row4_col1\" class=\"data row4 col1\" >-0.237264</td> \n",
       "        <td id=\"T_97cbbc52_d1a9_11e8_8df9_48bf6bf19648row4_col2\" class=\"data row4 col2\" >-0.0598565</td> \n",
       "        <td id=\"T_97cbbc52_d1a9_11e8_8df9_48bf6bf19648row4_col3\" class=\"data row4 col3\" >-0.30958</td> \n",
       "        <td id=\"T_97cbbc52_d1a9_11e8_8df9_48bf6bf19648row4_col4\" class=\"data row4 col4\" >1</td> \n",
       "        <td id=\"T_97cbbc52_d1a9_11e8_8df9_48bf6bf19648row4_col5\" class=\"data row4 col5\" >0.39928</td> \n",
       "    </tr>    <tr> \n",
       "        <th id=\"T_97cbbc52_d1a9_11e8_8df9_48bf6bf19648level0_row5\" class=\"row_heading level0 row5\" >imputed_gender_pred</th> \n",
       "        <td id=\"T_97cbbc52_d1a9_11e8_8df9_48bf6bf19648row5_col0\" class=\"data row5 col0\" >-0.164857</td> \n",
       "        <td id=\"T_97cbbc52_d1a9_11e8_8df9_48bf6bf19648row5_col1\" class=\"data row5 col1\" >-0.0465937</td> \n",
       "        <td id=\"T_97cbbc52_d1a9_11e8_8df9_48bf6bf19648row5_col2\" class=\"data row5 col2\" >-0.134172</td> \n",
       "        <td id=\"T_97cbbc52_d1a9_11e8_8df9_48bf6bf19648row5_col3\" class=\"data row5 col3\" >-0.778537</td> \n",
       "        <td id=\"T_97cbbc52_d1a9_11e8_8df9_48bf6bf19648row5_col4\" class=\"data row5 col4\" >0.39928</td> \n",
       "        <td id=\"T_97cbbc52_d1a9_11e8_8df9_48bf6bf19648row5_col5\" class=\"data row5 col5\" >1</td> \n",
       "    </tr></tbody> \n",
       "</table> "
      ],
      "text/plain": [
       "<pandas.io.formats.style.Styler at 0x1c23f8b128>"
      ]
     },
     "execution_count": 140,
     "metadata": {},
     "output_type": "execute_result"
    }
   ],
   "source": [
    "#In matrix form\n",
    "BestIncome = BestIncome.drop(columns = [\"total_income\"])\n",
    "\n",
    "corr = BestIncome.corr()\n",
    "corr.style.background_gradient()"
   ]
  },
  {
   "cell_type": "markdown",
   "metadata": {},
   "source": [
    "# Question 2"
   ]
  },
  {
   "cell_type": "code",
   "execution_count": 141,
   "metadata": {},
   "outputs": [
    {
     "data": {
      "text/html": [
       "<div>\n",
       "<style scoped>\n",
       "    .dataframe tbody tr th:only-of-type {\n",
       "        vertical-align: middle;\n",
       "    }\n",
       "\n",
       "    .dataframe tbody tr th {\n",
       "        vertical-align: top;\n",
       "    }\n",
       "\n",
       "    .dataframe thead th {\n",
       "        text-align: right;\n",
       "    }\n",
       "</style>\n",
       "<table border=\"1\" class=\"dataframe\">\n",
       "  <thead>\n",
       "    <tr style=\"text-align: right;\">\n",
       "      <th></th>\n",
       "      <th>grad_year</th>\n",
       "      <th>gre_qnt</th>\n",
       "      <th>salary</th>\n",
       "    </tr>\n",
       "  </thead>\n",
       "  <tbody>\n",
       "    <tr>\n",
       "      <th>0</th>\n",
       "      <td>2001.0</td>\n",
       "      <td>739.737072</td>\n",
       "      <td>67400.475185</td>\n",
       "    </tr>\n",
       "    <tr>\n",
       "      <th>1</th>\n",
       "      <td>2001.0</td>\n",
       "      <td>721.811673</td>\n",
       "      <td>67600.584142</td>\n",
       "    </tr>\n",
       "    <tr>\n",
       "      <th>2</th>\n",
       "      <td>2001.0</td>\n",
       "      <td>736.277908</td>\n",
       "      <td>58704.880589</td>\n",
       "    </tr>\n",
       "    <tr>\n",
       "      <th>3</th>\n",
       "      <td>2001.0</td>\n",
       "      <td>770.498485</td>\n",
       "      <td>64707.290345</td>\n",
       "    </tr>\n",
       "    <tr>\n",
       "      <th>4</th>\n",
       "      <td>2001.0</td>\n",
       "      <td>735.002861</td>\n",
       "      <td>51737.324165</td>\n",
       "    </tr>\n",
       "  </tbody>\n",
       "</table>\n",
       "</div>"
      ],
      "text/plain": [
       "   grad_year     gre_qnt        salary\n",
       "0     2001.0  739.737072  67400.475185\n",
       "1     2001.0  721.811673  67600.584142\n",
       "2     2001.0  736.277908  58704.880589\n",
       "3     2001.0  770.498485  64707.290345\n",
       "4     2001.0  735.002861  51737.324165"
      ]
     },
     "execution_count": 141,
     "metadata": {},
     "output_type": "execute_result"
    }
   ],
   "source": [
    "#Opening dataset\n",
    "IncomeIntel = pd.read_csv('IncomeIntel1.txt', names=['grad_year', 'gre_qnt', 'salary'])\n",
    "IncomeIntel.head()"
   ]
  },
  {
   "cell_type": "markdown",
   "metadata": {},
   "source": [
    "#### (a) Obtaining the coefficients of the regression of Salary on GRE quantitative scores"
   ]
  },
  {
   "cell_type": "code",
   "execution_count": 142,
   "metadata": {},
   "outputs": [
    {
     "name": "stdout",
     "output_type": "stream",
     "text": [
      "                            OLS Regression Results                            \n",
      "==============================================================================\n",
      "Dep. Variable:                 salary   R-squared:                       0.263\n",
      "Model:                            OLS   Adj. R-squared:                  0.262\n",
      "Method:                 Least Squares   F-statistic:                     356.3\n",
      "Date:                Tue, 16 Oct 2018   Prob (F-statistic):           3.43e-68\n",
      "Time:                        20:11:43   Log-Likelihood:                -10673.\n",
      "No. Observations:                1000   AIC:                         2.135e+04\n",
      "Df Residuals:                     998   BIC:                         2.136e+04\n",
      "Df Model:                           1                                         \n",
      "Covariance Type:            nonrobust                                         \n",
      "==============================================================================\n",
      "                 coef    std err          t      P>|t|      [0.025      0.975]\n",
      "------------------------------------------------------------------------------\n",
      "gre_qnt      -25.7632      1.365    -18.875      0.000     -28.442     -23.085\n",
      "const       8.954e+04    878.764    101.895      0.000    8.78e+04    9.13e+04\n",
      "==============================================================================\n",
      "Omnibus:                        9.118   Durbin-Watson:                   1.424\n",
      "Prob(Omnibus):                  0.010   Jarque-Bera (JB):                9.100\n",
      "Skew:                           0.230   Prob(JB):                       0.0106\n",
      "Kurtosis:                       3.077   Cond. No.                     1.71e+03\n",
      "==============================================================================\n",
      "\n",
      "Warnings:\n",
      "[1] Standard Errors assume that the covariance matrix of the errors is correctly specified.\n",
      "[2] The condition number is large, 1.71e+03. This might indicate that there are\n",
      "strong multicollinearity or other numerical problems.\n"
     ]
    }
   ],
   "source": [
    "#Linear regression on Salary on GRE quantitative scores\n",
    "outcome  = 'salary'\n",
    "features = ['gre_qnt']\n",
    "\n",
    "X, y = IncomeIntel[features], IncomeIntel[outcome]\n",
    "\n",
    "import statsmodels.api as sm\n",
    "\n",
    "X = sm.add_constant(X, prepend=False)\n",
    "X.head()\n",
    "\n",
    "m = sm.OLS(y, X)\n",
    "\n",
    "res = m.fit()\n",
    "print(res.summary())"
   ]
  },
  {
   "cell_type": "markdown",
   "metadata": {},
   "source": [
    "The coefficient for GRE quantitative score is -25.76 and the constant is 8.95e+04, and the standard error is 1.37."
   ]
  },
  {
   "cell_type": "markdown",
   "metadata": {},
   "source": [
    "#### (b) Scatter plot of graduation year and GRE quantitative score"
   ]
  },
  {
   "cell_type": "code",
   "execution_count": 143,
   "metadata": {
    "scrolled": true
   },
   "outputs": [
    {
     "data": {
      "image/png": "[encoded data removed]",
      "text/plain": [
       "<Figure size 432x288 with 1 Axes>"
      ]
     },
     "metadata": {
      "needs_background": "light"
     },
     "output_type": "display_data"
    }
   ],
   "source": [
    "#Running a simple scatter plot of the graduation year and GRE quantitative scores\n",
    "import matplotlib.pyplot as plt\n",
    "grad_year = IncomeIntel['grad_year']\n",
    "gre_qnt = IncomeIntel['gre_qnt']\n",
    "IncomeIntel.plot(x='grad_year', y='gre_qnt', kind='scatter')\n",
    "plt.show()"
   ]
  },
  {
   "cell_type": "markdown",
   "metadata": {},
   "source": [
    "As seen in the scatter plot, the three variables in 2011, 2012 and 2013 have a very low GRE quantitative score of 200, while the rest of the GRE scores are around 800. This drop in GRE scores are because the GRE tests have changed in testing format since 2011. As such, we cannot compare GRE scores for 2011 and after 2011 based on absolute numbers alone. One solution is to change all the GRE scores to Z-scores (as these scores have not changed over the years), for us to compare between all the years."
   ]
  },
  {
   "cell_type": "code",
   "execution_count": 144,
   "metadata": {},
   "outputs": [
    {
     "data": {
      "text/plain": [
       "<bound method NDFrame.head of      grad_year     gre_qnt         salary    zscore\n",
       "0       2001.0  739.737072   67400.475185  0.406740\n",
       "1       2001.0  721.811673   67600.584142 -0.356635\n",
       "2       2001.0  736.277908   58704.880589  0.259427\n",
       "3       2001.0  770.498485   64707.290345  1.716750\n",
       "4       2001.0  735.002861   51737.324165  0.205128\n",
       "5       2001.0  763.876037   64010.822579  1.434726\n",
       "6       2001.0  738.758659   60080.107481  0.365073\n",
       "7       2001.0  706.407471   56263.309815 -1.012641\n",
       "8       2001.0  705.886037   62109.859243 -1.034847\n",
       "9       2001.0  700.971986   50189.704747 -1.244117\n",
       "10      2001.0  709.754522   58721.753127 -0.870103\n",
       "11      2001.0  734.854582   65380.594586  0.198813\n",
       "12      2001.0  753.384151   52857.212365  0.987916\n",
       "13      2001.0  690.312090   63572.217765 -1.698081\n",
       "14      2001.0  774.154371   65892.177035  1.872441\n",
       "15      2001.0  726.377225   67454.545201 -0.162205\n",
       "16      2001.0  702.735945   59346.670232 -1.168997\n",
       "17      2001.0  723.806542   70031.012603 -0.271681\n",
       "18      2001.0  758.051159   53441.672888  1.186666\n",
       "19      2001.0  711.063082   61008.652046 -0.814376\n",
       "20      2001.0  702.975969   50065.932451 -1.158775\n",
       "21      2001.0  733.877837   75612.225369  0.157217\n",
       "22      2001.0  735.918767   59580.620375  0.244133\n",
       "23      2001.0  749.069115   57825.611782  0.804156\n",
       "24      2001.0  732.581793   52809.225854  0.102024\n",
       "25      2001.0  728.050446   57492.084316 -0.090949\n",
       "26      2001.0  690.265988   64686.224351 -1.700045\n",
       "27      2001.0  732.448836   53067.021394  0.096361\n",
       "28      2001.0  724.755887   58902.707320 -0.231252\n",
       "29      2001.0  721.739038   62094.061567 -0.359728\n",
       "..         ...         ...            ...       ...\n",
       "970     2013.0  158.578197   79263.470892  0.576381\n",
       "971     2013.0  147.667305  104782.627567 -1.440563\n",
       "972     2013.0  160.086274   94013.946074  0.855158\n",
       "973     2013.0  156.289493   74032.543183  0.153300\n",
       "974     2013.0  150.340044   84220.290724 -0.946491\n",
       "975     2013.0  163.054596   74940.546965  1.403870\n",
       "976     2013.0  157.624151   83293.343135  0.400020\n",
       "977     2013.0  150.927266   78340.908128 -0.837940\n",
       "978     2013.0  157.393763   91066.889575  0.357431\n",
       "979     2013.0  154.449630   87169.012509 -0.186810\n",
       "980     2013.0  153.756644   90033.601423 -0.314912\n",
       "981     2013.0  150.796371   98650.768576 -0.862137\n",
       "982     2013.0  150.691700   70455.885421 -0.881486\n",
       "983     2013.0  153.639896   91133.301177 -0.336494\n",
       "984     2013.0  150.374470   91796.617819 -0.940128\n",
       "985     2013.0  162.350725   73780.832249  1.273755\n",
       "986     2013.0  155.803279   96927.925237  0.063421\n",
       "987     2013.0  159.111662   71875.246552  0.674995\n",
       "988     2013.0  158.338350  103357.966587  0.532044\n",
       "989     2013.0  162.308518   73780.472319  1.265953\n",
       "990     2013.0  156.651125   79055.571295  0.220150\n",
       "991     2013.0  153.836045   91529.313046 -0.300235\n",
       "992     2013.0  149.542467   75940.200168 -1.093928\n",
       "993     2013.0  155.349020   97688.397380 -0.020552\n",
       "994     2013.0  161.767399   75260.194609  1.165924\n",
       "995     2013.0  160.441025  100430.166532  0.920736\n",
       "996     2013.0  160.431891   82198.200872  0.919047\n",
       "997     2013.0  154.254526   84340.214218 -0.222876\n",
       "998     2013.0  162.036321   87600.881985  1.215636\n",
       "999     2013.0  156.946735   82854.576903  0.274795\n",
       "\n",
       "[1000 rows x 4 columns]>"
      ]
     },
     "execution_count": 144,
     "metadata": {},
     "output_type": "execute_result"
    }
   ],
   "source": [
    "#Implementing solution proposed above\n",
    "df = IncomeIntel.copy() \n",
    "gre2 = df.groupby('grad_year').transform(lambda x : (x - x.mean()) / x.std())  # transform \n",
    "gre2.head()\n",
    "IncomeIntel['zscore'] = gre2['gre_qnt'] \n",
    "IncomeIntel.head"
   ]
  },
  {
   "cell_type": "markdown",
   "metadata": {},
   "source": [
    "#### (c) Scatter plot of income and graduation year"
   ]
  },
  {
   "cell_type": "code",
   "execution_count": 145,
   "metadata": {},
   "outputs": [
    {
     "data": {
      "image/png": "[encoded data removed]",
      "text/plain": [
       "<Figure size 432x288 with 1 Axes>"
      ]
     },
     "metadata": {
      "needs_background": "light"
     },
     "output_type": "display_data"
    }
   ],
   "source": [
    "#Running a simple scatter plot on the graduation year and GRE quantitative scores\n",
    "grad_year = IncomeIntel['grad_year']\n",
    "salary = IncomeIntel['salary']\n",
    "IncomeIntel.plot(x='grad_year', y='salary', kind='scatter')\n",
    "plt.show()"
   ]
  },
  {
   "cell_type": "markdown",
   "metadata": {},
   "source": [
    "As the data spans over time, and time increases constantly, we need to stationarize the data and control for time for us to complete the regression. Because these data are not panel data, I cannot use differencing or log differencing methods to detrend them. Instead, I plan to use growth rate to stationarize the data."
   ]
  },
  {
   "cell_type": "code",
   "execution_count": 146,
   "metadata": {},
   "outputs": [],
   "source": [
    "#Implementing solution proposed above\n",
    "#To calculate the average growth rate in salary, \n",
    "avg_inc_by_year = IncomeIntel['salary'].groupby(IncomeIntel['grad_year']).mean().values"
   ]
  },
  {
   "cell_type": "code",
   "execution_count": 147,
   "metadata": {},
   "outputs": [],
   "source": [
    "#To calculate the average growth rate in salaries across all 13 years,\n",
    "avg_growth_rate = ((avg_inc_by_year[1:] - avg_inc_by_year[:-1]) / avg_inc_by_year[:-1]).mean()"
   ]
  },
  {
   "cell_type": "code",
   "execution_count": 148,
   "metadata": {},
   "outputs": [],
   "source": [
    "#Divide each salary by the growth rate\n",
    "IncomeIntel['adj_salary'] = IncomeIntel['salary'] / (1 + avg_growth_rate)**(IncomeIntel['grad_year'] - 2001)"
   ]
  },
  {
   "cell_type": "markdown",
   "metadata": {},
   "source": [
    "#### (d) Reestimating the coefficients with updated variables "
   ]
  },
  {
   "cell_type": "code",
   "execution_count": 149,
   "metadata": {
    "scrolled": true
   },
   "outputs": [
    {
     "name": "stdout",
     "output_type": "stream",
     "text": [
      "                            OLS Regression Results                            \n",
      "==============================================================================\n",
      "Dep. Variable:             adj_salary   R-squared:                       0.000\n",
      "Model:                            OLS   Adj. R-squared:                 -0.001\n",
      "Method:                 Least Squares   F-statistic:                    0.4395\n",
      "Date:                Tue, 16 Oct 2018   Prob (F-statistic):              0.508\n",
      "Time:                        20:12:11   Log-Likelihood:                -10291.\n",
      "No. Observations:                1000   AIC:                         2.059e+04\n",
      "Df Residuals:                     998   BIC:                         2.060e+04\n",
      "Df Model:                           1                                         \n",
      "Covariance Type:            nonrobust                                         \n",
      "==============================================================================\n",
      "                 coef    std err          t      P>|t|      [0.025      0.975]\n",
      "------------------------------------------------------------------------------\n",
      "zscore      -150.6097    227.193     -0.663      0.508    -596.440     295.221\n",
      "const       6.142e+04    225.711    272.117      0.000     6.1e+04    6.19e+04\n",
      "==============================================================================\n",
      "Omnibus:                        0.776   Durbin-Watson:                   2.025\n",
      "Prob(Omnibus):                  0.678   Jarque-Bera (JB):                0.687\n",
      "Skew:                           0.059   Prob(JB):                        0.709\n",
      "Kurtosis:                       3.049   Cond. No.                         1.01\n",
      "==============================================================================\n",
      "\n",
      "Warnings:\n",
      "[1] Standard Errors assume that the covariance matrix of the errors is correctly specified.\n"
     ]
    }
   ],
   "source": [
    "#Linear regression on revised Salary on revised GRE quantitative scores (Z scores)\n",
    "outcome  = 'adj_salary'\n",
    "features = ['zscore']\n",
    "\n",
    "X, y = IncomeIntel[features], IncomeIntel[outcome]\n",
    "\n",
    "import statsmodels.api as sm\n",
    "\n",
    "X = sm.add_constant(X, prepend=False)\n",
    "X.head()\n",
    "\n",
    "m = sm.OLS(y, X)\n",
    "\n",
    "res = m.fit()\n",
    "print(res.summary())"
   ]
  },
  {
   "cell_type": "markdown",
   "metadata": {},
   "source": [
    "The estimated coefficients for Z score (for GRE quantitative score) is -150.61 and the constant is now 6.142e+04. The new estimated coefficients for zscore on revised salary is much higher than before and is no longer significant (P>0.05) as compared to the regression ran between the unrevised GRE scores and unrevised salary data. This means that after accounting for the test format changes in the GRE, and time drift in the salary data, there is no longer a significant relationship between these two variables. Thus the hypothesis that that higher intelligence, as operationalized as quantitative GRE scores, is associated with higher salary, is not supported. "
   ]
  }
 ],
 "metadata": {
  "kernelspec": {
   "display_name": "Python 3",
   "language": "python",
   "name": "python3"
  },
  "language_info": {
   "codemirror_mode": {
    "name": "ipython",
    "version": 3
   },
   "file_extension": ".py",
   "mimetype": "text/x-python",
   "name": "python",
   "nbconvert_exporter": "python",
   "pygments_lexer": "ipython3",
   "version": "3.7.0"
  }
 },
 "nbformat": 4,
 "nbformat_minor": 2
}
