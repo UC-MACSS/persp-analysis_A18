{
 "cells": [
  {
   "cell_type": "markdown",
   "metadata": {},
   "source": [
    "## Simulation Assignment\n",
    "\n",
    "This notebook will contain the work for the assignment on simulation.\n",
    "Let us start with our imports!"
   ]
  },
  {
   "cell_type": "code",
   "execution_count": 1,
   "metadata": {},
   "outputs": [],
   "source": [
    "import numpy as np\n",
    "import matplotlib.pyplot as plt\n",
    "%matplotlib inline"
   ]
  },
  {
   "cell_type": "markdown",
   "metadata": {},
   "source": [
    "We have a bunch of variables which we will be needing to create our simulation - let us set them up."
   ]
  },
  {
   "cell_type": "code",
   "execution_count": 2,
   "metadata": {},
   "outputs": [],
   "source": [
    "inc_0 = 80000\n",
    "sigma = 0.13\n",
    "persistance = 0.4\n",
    "growth = 0.025\n",
    "n_sims = 10000\n",
    "np.random.seed(0)"
   ]
  },
  {
   "cell_type": "markdown",
   "metadata": {},
   "source": [
    "Let us describe some of the variables and processes used in the simulation."
   ]
  },
  {
   "cell_type": "code",
   "execution_count": 3,
   "metadata": {},
   "outputs": [],
   "source": [
    "ln_inc = np.zeros(40)"
   ]
  },
  {
   "cell_type": "code",
   "execution_count": 4,
   "metadata": {},
   "outputs": [],
   "source": [
    "ln_inc[0] = np.log(inc_0) + np.log(np.random.lognormal(0, sigma))"
   ]
  },
  {
   "cell_type": "code",
   "execution_count": 5,
   "metadata": {},
   "outputs": [],
   "source": [
    "for t in range(2021, 2060):\n",
    "    ln_inc[t - 2020] = (1 - persistance)*(ln_inc[0] + growth*(t - 2020)) + persistance*ln_inc[t - 2021] + np.log(np.random.lognormal(0, sigma))"
   ]
  },
  {
   "cell_type": "code",
   "execution_count": 6,
   "metadata": {},
   "outputs": [
    {
     "data": {
      "text/plain": [
       "array([100620.24094358, 107594.96755913, 120952.45716805, 151606.32601267,\n",
       "       160470.39693257, 115123.99127211, 131463.26396073, 121951.88810289,\n",
       "       120885.55310675, 130729.14291512, 132262.52279851, 159937.5013461 ,\n",
       "       160077.84321155, 149589.35442255, 154110.80322217, 156062.79595161,\n",
       "       185146.18996739, 161353.85028082, 165827.94541691, 146226.95903818,\n",
       "       113180.89270873, 157335.0212078 , 187267.81154174, 165396.64644713,\n",
       "       236327.55028811, 170516.49436208, 184618.86011264, 187690.73036726,\n",
       "       239844.68894323, 266353.75670624, 237670.52460993, 237300.51578974,\n",
       "       204206.31920435, 169348.86268624, 197229.46143561, 227212.24069212,\n",
       "       280648.69093043, 308883.10826229, 264977.45409834, 255793.53204251])"
      ]
     },
     "execution_count": 6,
     "metadata": {},
     "output_type": "execute_result"
    }
   ],
   "source": [
    "np.exp(ln_inc)"
   ]
  },
  {
   "cell_type": "markdown",
   "metadata": {},
   "source": [
    "The above round of simulation was for one set of error values. We can see the salaries growing quite fast. Let us now do the simulation 40 times. Instead of first drawing the 10,000 sets of 40 normally distributed errors we just draw from the distribution each time, which gives us the same result but is computationally faster."
   ]
  },
  {
   "cell_type": "code",
   "execution_count": 7,
   "metadata": {},
   "outputs": [],
   "source": [
    "def simulate(inc_0, sigma, persistance, growth, n_sims):\n",
    "    sims = np.zeros((n_sims, 40))\n",
    "    for i in range(0, n_sims):\n",
    "        ln_inc = np.zeros(40)\n",
    "        ln_inc[0] = np.log(inc_0) + np.log(np.random.lognormal(0, sigma))\n",
    "        for t in range(2021, 2060):\n",
    "            ln_inc[t - 2020] = (1 - persistance)*(ln_inc[0] + growth*(t - 2020)) + persistance*ln_inc[t - 2021] + np.log(np.random.lognormal(0, sigma))\n",
    "        sims[i] = np.exp(ln_inc)\n",
    "    return sims"
   ]
  },
  {
   "cell_type": "code",
   "execution_count": 8,
   "metadata": {},
   "outputs": [],
   "source": [
    "sims = simulate(inc_0, sigma, persistance, growth, n_sims)"
   ]
  },
  {
   "cell_type": "code",
   "execution_count": 9,
   "metadata": {},
   "outputs": [],
   "source": [
    "year_vec = np.arange(2020, 2060)"
   ]
  },
  {
   "cell_type": "code",
   "execution_count": 10,
   "metadata": {},
   "outputs": [
    {
     "data": {
      "text/plain": [
       "Text(0, 0.5, 'Annual Salary')"
      ]
     },
     "execution_count": 10,
     "metadata": {},
     "output_type": "execute_result"
    },
    {
     "data": {
      "image/png": "[encoded data removed]",
      "text/plain": [
       "<Figure size 432x288 with 1 Axes>"
      ]
     },
     "metadata": {
      "needs_background": "light"
     },
     "output_type": "display_data"
    }
   ],
   "source": [
    "plt.plot(year_vec, sims[7])\n",
    "# add grid\n",
    "plt.grid(b=True, which='major', color='0.65', linestyle='-')\n",
    "plt.title('Simulated growth of salary', fontsize=10)\n",
    "plt.xlabel(r'Year $t$')\n",
    "plt.ylabel(r'Annual Salary')"
   ]
  },
  {
   "cell_type": "markdown",
   "metadata": {},
   "source": [
    "In the above case we plotted the 8th simulation. All the simulations more or less observe the same trend (as expected). Let us now plot the histogram of 50 bins."
   ]
  },
  {
   "cell_type": "code",
   "execution_count": 11,
   "metadata": {},
   "outputs": [
    {
     "data": {
      "text/plain": [
       "(array([  2.,   4.,  16.,  19.,  46.,  48.,  59., 134., 139., 187., 273.,\n",
       "        341., 406., 457., 490., 545., 563., 535., 592., 589., 597., 543.,\n",
       "        506., 458., 392., 359., 306., 268., 233., 181., 132., 116.,  93.,\n",
       "         82.,  83.,  64.,  43.,  23.,  24.,  12.,  11.,   7.,   7.,   1.,\n",
       "          7.,   2.,   2.,   0.,   2.,   1.]),\n",
       " array([ 50225.18182133,  51782.43027151,  53339.6787217 ,  54896.92717188,\n",
       "         56454.17562207,  58011.42407225,  59568.67252244,  61125.92097262,\n",
       "         62683.1694228 ,  64240.41787299,  65797.66632317,  67354.91477336,\n",
       "         68912.16322354,  70469.41167373,  72026.66012391,  73583.9085741 ,\n",
       "         75141.15702428,  76698.40547447,  78255.65392465,  79812.90237484,\n",
       "         81370.15082502,  82927.39927521,  84484.64772539,  86041.89617558,\n",
       "         87599.14462576,  89156.39307595,  90713.64152613,  92270.88997632,\n",
       "         93828.1384265 ,  95385.38687669,  96942.63532687,  98499.88377706,\n",
       "        100057.13222724, 101614.38067743, 103171.62912761, 104728.8775778 ,\n",
       "        106286.12602798, 107843.37447817, 109400.62292835, 110957.87137854,\n",
       "        112515.11982872, 114072.36827891, 115629.61672909, 117186.86517928,\n",
       "        118744.11362946, 120301.36207965, 121858.61052983, 123415.85898002,\n",
       "        124973.1074302 , 126530.35588039, 128087.60433057]),\n",
       " <a list of 50 Patch objects>)"
      ]
     },
     "execution_count": 11,
     "metadata": {},
     "output_type": "execute_result"
    },
    {
     "data": {
      "image/png": "[encoded data removed]",
      "text/plain": [
       "<Figure size 432x288 with 1 Axes>"
      ]
     },
     "metadata": {
      "needs_background": "light"
     },
     "output_type": "display_data"
    }
   ],
   "source": [
    "plt.hist(sims[:,0], 50)"
   ]
  },
  {
   "cell_type": "markdown",
   "metadata": {},
   "source": [
    "The distribution is log-normal, but isn't very far away from being a normal distribution.\n",
    "According to our distribution, some of the class will earn more than 100,000, and some of the class will earn less than 70000. Let us use the `np.where` function to get the exact values!"
   ]
  },
  {
   "cell_type": "code",
   "execution_count": 12,
   "metadata": {},
   "outputs": [
    {
     "data": {
      "text/plain": [
       "468"
      ]
     },
     "execution_count": 12,
     "metadata": {},
     "output_type": "execute_result"
    }
   ],
   "source": [
    "len(np.where(sims[:,0] > 100000)[0])"
   ]
  },
  {
   "cell_type": "code",
   "execution_count": 13,
   "metadata": {
    "scrolled": true
   },
   "outputs": [
    {
     "data": {
      "text/plain": [
       "1548"
      ]
     },
     "execution_count": 13,
     "metadata": {},
     "output_type": "execute_result"
    }
   ],
   "source": [
    "len(np.where(sims[:,0] < 70000)[0])"
   ]
  },
  {
   "cell_type": "markdown",
   "metadata": {},
   "source": [
    "4.68% of the population earn more than 10,000 and 15.48% of the population earn less than 70,000.\n",
    "Let us now try and calculate the number of years it takes to pay off debt!"
   ]
  },
  {
   "cell_type": "code",
   "execution_count": 14,
   "metadata": {},
   "outputs": [],
   "source": [
    "debt = 95000\n",
    "n_years = np.zeros(10000)"
   ]
  },
  {
   "cell_type": "code",
   "execution_count": 15,
   "metadata": {},
   "outputs": [],
   "source": [
    "def no_years(salary, debt):\n",
    "    years = 0\n",
    "    while debt > 0:\n",
    "        years += 1\n",
    "        debt = debt - 0.10 * salary[years]\n",
    "    return (years + 1)"
   ]
  },
  {
   "cell_type": "code",
   "execution_count": 16,
   "metadata": {},
   "outputs": [],
   "source": [
    "for i in range(0, 10000):\n",
    "    n_years[i] = no_years(sims[i], debt)"
   ]
  },
  {
   "cell_type": "code",
   "execution_count": 17,
   "metadata": {},
   "outputs": [
    {
     "data": {
      "text/plain": [
       "(array([  18.,  254., 1204., 2507., 2880., 1930.,  879.,  247.,   67.,\n",
       "          14.]),\n",
       " array([ 8.,  9., 10., 11., 12., 13., 14., 15., 16., 17., 18.]),\n",
       " <a list of 10 Patch objects>)"
      ]
     },
     "execution_count": 17,
     "metadata": {},
     "output_type": "execute_result"
    },
    {
     "data": {
      "image/png": "[encoded data removed]",
      "text/plain": [
       "<Figure size 432x288 with 1 Axes>"
      ]
     },
     "metadata": {
      "needs_background": "light"
     },
     "output_type": "display_data"
    }
   ],
   "source": [
    "plt.hist(n_years)"
   ]
  },
  {
   "cell_type": "markdown",
   "metadata": {},
   "source": [
    "The above histogram is the histogram of the number of years students in the program take to repay their debts. \n",
    "\n",
    "Let us use np.where again to see how many people were able to off their debt in 10 years or less."
   ]
  },
  {
   "cell_type": "code",
   "execution_count": 18,
   "metadata": {},
   "outputs": [
    {
     "data": {
      "text/plain": [
       "1476"
      ]
     },
     "execution_count": 18,
     "metadata": {},
     "output_type": "execute_result"
    }
   ],
   "source": [
    "len(np.where(n_years <= 10)[0])"
   ]
  },
  {
   "cell_type": "markdown",
   "metadata": {},
   "source": [
    "That's 14.76% of the simulations where the debt was paid off in 10 years or less."
   ]
  },
  {
   "cell_type": "code",
   "execution_count": 19,
   "metadata": {},
   "outputs": [],
   "source": [
    "inc_0 = 90000\n",
    "sigma = 0.17\n",
    "persistance = 0.4\n",
    "growth = 0.025\n",
    "n_sims = 10000"
   ]
  },
  {
   "cell_type": "code",
   "execution_count": 20,
   "metadata": {},
   "outputs": [],
   "source": [
    "sims = simulate(inc_0, sigma, persistance, growth, n_sims)"
   ]
  },
  {
   "cell_type": "code",
   "execution_count": 21,
   "metadata": {},
   "outputs": [],
   "source": [
    "for i in range(0, 10000):\n",
    "    n_years[i] = no_years(sims[i], debt)"
   ]
  },
  {
   "cell_type": "code",
   "execution_count": 22,
   "metadata": {},
   "outputs": [
    {
     "data": {
      "text/plain": [
       "(array([  87.,  476., 1430., 2352., 2392., 2691.,  394.,  131.,   39.,\n",
       "           8.]),\n",
       " array([ 6. ,  7.2,  8.4,  9.6, 10.8, 12. , 13.2, 14.4, 15.6, 16.8, 18. ]),\n",
       " <a list of 10 Patch objects>)"
      ]
     },
     "execution_count": 22,
     "metadata": {},
     "output_type": "execute_result"
    },
    {
     "data": {
      "image/png": "[encoded data removed]",
      "text/plain": [
       "<Figure size 432x288 with 1 Axes>"
      ]
     },
     "metadata": {
      "needs_background": "light"
     },
     "output_type": "display_data"
    }
   ],
   "source": [
    "plt.hist(n_years)"
   ]
  },
  {
   "cell_type": "code",
   "execution_count": 23,
   "metadata": {},
   "outputs": [
    {
     "data": {
      "text/plain": [
       "4345"
      ]
     },
     "execution_count": 23,
     "metadata": {},
     "output_type": "execute_result"
    }
   ],
   "source": [
    "len(np.where(n_years <= 10)[0])"
   ]
  },
  {
   "cell_type": "markdown",
   "metadata": {},
   "source": [
    "We can see that the number of people who are able to pay off their debt are mich higher now - it has risen to 43.45% of the population!"
   ]
  }
 ],
 "metadata": {
  "kernelspec": {
   "display_name": "Python 3",
   "language": "python",
   "name": "python3"
  },
  "language_info": {
   "codemirror_mode": {
    "name": "ipython",
    "version": 3
   },
   "file_extension": ".py",
   "mimetype": "text/x-python",
   "name": "python",
   "nbconvert_exporter": "python",
   "pygments_lexer": "ipython3",
   "version": "3.5.2"
  }
 },
 "nbformat": 4,
 "nbformat_minor": 2
}
