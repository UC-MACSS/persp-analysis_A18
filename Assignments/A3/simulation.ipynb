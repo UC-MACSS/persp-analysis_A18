{
 "cells": [
  {
   "cell_type": "markdown",
   "metadata": {},
   "source": [
    "## Simulation Assignment\n",
    "\n",
    "This notebook will contain the work for the assignment on simulation.\n",
    "Let us start with our imports!"
   ]
  },
  {
   "cell_type": "code",
   "execution_count": 1,
   "metadata": {},
   "outputs": [],
   "source": [
    "import numpy as np\n",
    "import matplotlib.pyplot as plt\n",
    "%matplotlib inline"
   ]
  },
  {
   "cell_type": "markdown",
   "metadata": {},
   "source": [
    "We have a bunch of variables which we will be needing to create our simulation - let us set them up."
   ]
  },
  {
   "cell_type": "code",
   "execution_count": 2,
   "metadata": {},
   "outputs": [],
   "source": [
    "inc_0 = 80000\n",
    "sigma = 0.13\n",
    "persistance = 0.4\n",
    "growth = 0.025\n",
    "n_sims = 10000\n",
    "np.random.seed(0)"
   ]
  },
  {
   "cell_type": "markdown",
   "metadata": {},
   "source": [
    "Let us describe some of the variables and processes used in the simulation."
   ]
  },
  {
   "cell_type": "code",
   "execution_count": 3,
   "metadata": {},
   "outputs": [],
   "source": [
    "ln_inc = np.zeros(40)"
   ]
  },
  {
   "cell_type": "code",
   "execution_count": 4,
   "metadata": {},
   "outputs": [],
   "source": [
    "ln_inc[0] = np.log(inc_0) + np.random.lognormal(0, sigma)"
   ]
  },
  {
   "cell_type": "code",
   "execution_count": 5,
   "metadata": {},
   "outputs": [],
   "source": [
    "for t in range(2021, 2060):\n",
    "    ln_inc[t - 2020] = (1 - persistance)*(ln_inc[0] + growth*(t - 2020)) + persistance*ln_inc[t - 2021] + np.random.lognormal(0, sigma)"
   ]
  },
  {
   "cell_type": "code",
   "execution_count": 6,
   "metadata": {},
   "outputs": [
    {
     "data": {
      "text/plain": [
       "array([ 281400.70400413,  819076.03398667, 1384125.05820007,\n",
       "       2122149.40463163, 2398821.97900606, 1724433.82744738,\n",
       "       1971189.45057464, 1815181.31007572, 1793842.44965377,\n",
       "       1940191.51167495, 1960562.42521726, 2414797.0399305 ,\n",
       "       2400927.56773083, 2226654.41182613, 2290600.88787929,\n",
       "       2316534.96093213, 2800000.29992663, 2410283.49839957,\n",
       "       2466131.47550935, 2181875.04621106, 1766244.72654231,\n",
       "       2387965.50032487, 2818840.44361214, 2476315.08775911,\n",
       "       3688209.43420233, 2622168.53125971, 2775363.19436844,\n",
       "       2796831.1668534 , 3636822.2025407 , 4059818.73683361,\n",
       "       3560914.37592192, 3534638.91313358, 3050354.84113575,\n",
       "       2594247.98261729, 2963325.97551677, 3384725.68440006,\n",
       "       4222222.43876279, 4662478.36547333, 3958747.41826966,\n",
       "       3803982.45359455])"
      ]
     },
     "execution_count": 6,
     "metadata": {},
     "output_type": "execute_result"
    }
   ],
   "source": [
    "np.exp(ln_inc)"
   ]
  },
  {
   "cell_type": "markdown",
   "metadata": {},
   "source": [
    "The above round of simulation was for one set of error values. We can see the salaries growing quite fast. Let us now do the simulation 40 times. Instead of first drawing the 10,000 sets of 40 normally distributed errors we just draw from the distribution each time, which gives us the same result but is computationally faster."
   ]
  },
  {
   "cell_type": "code",
   "execution_count": 7,
   "metadata": {},
   "outputs": [],
   "source": [
    "def simulate(inc_0, sigma, persistance, growth, n_sims):\n",
    "    sims = np.zeros((n_sims, 40))\n",
    "    for i in range(0, n_sims):\n",
    "        ln_inc = np.zeros(40)\n",
    "        ln_inc[0] = np.log(inc_0) + np.random.lognormal(0, sigma)\n",
    "        for t in range(2021, 2060):\n",
    "            ln_inc[t - 2020] = (1 - persistance)*(ln_inc[0] + growth*(t - 2020)) + persistance*ln_inc[t - 2021] + np.random.lognormal(0, sigma)\n",
    "        sims[i] = np.exp(ln_inc)\n",
    "    return sims"
   ]
  },
  {
   "cell_type": "code",
   "execution_count": 8,
   "metadata": {},
   "outputs": [],
   "source": [
    "sims = simulate(inc_0, sigma, persistance, growth, n_sims)"
   ]
  },
  {
   "cell_type": "code",
   "execution_count": 9,
   "metadata": {},
   "outputs": [],
   "source": [
    "year_vec = np.arange(2020, 2060)"
   ]
  },
  {
   "cell_type": "code",
   "execution_count": 10,
   "metadata": {},
   "outputs": [
    {
     "data": {
      "text/plain": [
       "Text(0, 0.5, 'Annual Salary')"
      ]
     },
     "execution_count": 10,
     "metadata": {},
     "output_type": "execute_result"
    },
    {
     "data": {
      "image/png": "[encoded data removed]",
      "text/plain": [
       "<Figure size 432x288 with 1 Axes>"
      ]
     },
     "metadata": {
      "needs_background": "light"
     },
     "output_type": "display_data"
    }
   ],
   "source": [
    "plt.plot(year_vec, sims[7])\n",
    "# add grid\n",
    "plt.grid(b=True, which='major', color='0.65', linestyle='-')\n",
    "plt.title('Simulated growth of salary', fontsize=10)\n",
    "plt.xlabel(r'Year $t$')\n",
    "plt.ylabel(r'Annual Salary')"
   ]
  },
  {
   "cell_type": "markdown",
   "metadata": {},
   "source": [
    "In the above case we plotted the 8th simulation. All the simulations more or less observe the same trend (as expected). Let us now plot the histogram of 50 bins."
   ]
  },
  {
   "cell_type": "code",
   "execution_count": 11,
   "metadata": {},
   "outputs": [
    {
     "data": {
      "text/plain": [
       "(array([  5.,  24.,  48.,  82., 142., 215., 296., 462., 541., 617., 666.,\n",
       "        687., 670., 676., 693., 624., 567., 490., 420., 373., 308., 268.,\n",
       "        228., 178., 120., 113.,  90.,  71.,  70.,  77.,  41.,  38.,  19.,\n",
       "         17.,  18.,   9.,   7.,   7.,   4.,   4.,   1.,   6.,   1.,   2.,\n",
       "          2.,   0.,   0.,   1.,   1.,   1.]),\n",
       " array([149880.96425833, 154816.87974724, 159752.79523615, 164688.71072507,\n",
       "        169624.62621398, 174560.5417029 , 179496.45719181, 184432.37268073,\n",
       "        189368.28816964, 194304.20365856, 199240.11914747, 204176.03463639,\n",
       "        209111.9501253 , 214047.86561422, 218983.78110313, 223919.69659205,\n",
       "        228855.61208096, 233791.52756987, 238727.44305879, 243663.3585477 ,\n",
       "        248599.27403662, 253535.18952553, 258471.10501445, 263407.02050336,\n",
       "        268342.93599228, 273278.85148119, 278214.76697011, 283150.68245902,\n",
       "        288086.59794794, 293022.51343685, 297958.42892577, 302894.34441468,\n",
       "        307830.25990359, 312766.17539251, 317702.09088142, 322638.00637034,\n",
       "        327573.92185925, 332509.83734817, 337445.75283708, 342381.668326  ,\n",
       "        347317.58381491, 352253.49930383, 357189.41479274, 362125.33028166,\n",
       "        367061.24577057, 371997.16125949, 376933.0767484 , 381868.99223731,\n",
       "        386804.90772623, 391740.82321514, 396676.73870406]),\n",
       " <a list of 50 Patch objects>)"
      ]
     },
     "execution_count": 11,
     "metadata": {},
     "output_type": "execute_result"
    },
    {
     "data": {
      "image/png": "[encoded data removed]",
      "text/plain": [
       "<Figure size 432x288 with 1 Axes>"
      ]
     },
     "metadata": {
      "needs_background": "light"
     },
     "output_type": "display_data"
    }
   ],
   "source": [
    "plt.hist(sims[:,0], 50)"
   ]
  },
  {
   "cell_type": "markdown",
   "metadata": {},
   "source": [
    "According to our distribution, the entire class will earn more than 100,000, and none of the class will earn less than 70000. Let us verify this using numpy's where function. \n",
    "\n",
    "According to our distribution, x of the class will earn more than 100,000, and y of the class will earn less than 70000.\n",
    "\n",
    "The distribution is log-normal, but isn't very far away from being a normal distribution."
   ]
  },
  {
   "cell_type": "code",
   "execution_count": 12,
   "metadata": {},
   "outputs": [
    {
     "data": {
      "text/plain": [
       "10000"
      ]
     },
     "execution_count": 12,
     "metadata": {},
     "output_type": "execute_result"
    }
   ],
   "source": [
    "len(np.where(sims[:,0] > 100000)[0])"
   ]
  },
  {
   "cell_type": "code",
   "execution_count": 13,
   "metadata": {
    "scrolled": true
   },
   "outputs": [
    {
     "data": {
      "text/plain": [
       "0"
      ]
     },
     "execution_count": 13,
     "metadata": {},
     "output_type": "execute_result"
    }
   ],
   "source": [
    "len(np.where(sims[:,0] < 70000)[0])"
   ]
  },
  {
   "cell_type": "code",
   "execution_count": 14,
   "metadata": {},
   "outputs": [],
   "source": [
    "debt = 95000\n",
    "n_years = np.zeros(10000)"
   ]
  },
  {
   "cell_type": "code",
   "execution_count": 15,
   "metadata": {},
   "outputs": [],
   "source": [
    "def no_years(salary, debt):\n",
    "    years = 0\n",
    "    while debt > 0:\n",
    "        years += 1\n",
    "        debt = debt - 0.10 * salary[years]\n",
    "    return (years + 1)"
   ]
  },
  {
   "cell_type": "code",
   "execution_count": 16,
   "metadata": {},
   "outputs": [],
   "source": [
    "for i in range(0, 10000):\n",
    "    n_years[i] = no_years(sims[i], debt)"
   ]
  },
  {
   "cell_type": "code",
   "execution_count": 17,
   "metadata": {},
   "outputs": [
    {
     "data": {
      "text/plain": [
       "(array([1.230e+02, 0.000e+00, 0.000e+00, 0.000e+00, 0.000e+00, 9.868e+03,\n",
       "        0.000e+00, 0.000e+00, 0.000e+00, 9.000e+00]),\n",
       " array([2. , 2.2, 2.4, 2.6, 2.8, 3. , 3.2, 3.4, 3.6, 3.8, 4. ]),\n",
       " <a list of 10 Patch objects>)"
      ]
     },
     "execution_count": 17,
     "metadata": {},
     "output_type": "execute_result"
    },
    {
     "data": {
      "image/png": "[encoded data removed]",
      "text/plain": [
       "<Figure size 432x288 with 1 Axes>"
      ]
     },
     "metadata": {
      "needs_background": "light"
     },
     "output_type": "display_data"
    }
   ],
   "source": [
    "plt.hist(n_years)"
   ]
  },
  {
   "cell_type": "markdown",
   "metadata": {},
   "source": [
    "The above histogram is the histogram of the number of years students in the program take to repay their debts. \n",
    "Let us do the same exercise with the updated values."
   ]
  },
  {
   "cell_type": "code",
   "execution_count": 18,
   "metadata": {},
   "outputs": [],
   "source": [
    "inc_0 = 90000\n",
    "sigma = 0.17\n",
    "persistance = 0.4\n",
    "growth = 0.025\n",
    "n_sims = 10000"
   ]
  },
  {
   "cell_type": "code",
   "execution_count": 19,
   "metadata": {},
   "outputs": [],
   "source": [
    "sims = simulate(inc_0, sigma, persistance, growth, n_sims)"
   ]
  },
  {
   "cell_type": "code",
   "execution_count": 20,
   "metadata": {},
   "outputs": [],
   "source": [
    "for i in range(0, 10000):\n",
    "    n_years[i] = no_years(sims[i], debt)"
   ]
  },
  {
   "cell_type": "code",
   "execution_count": 21,
   "metadata": {},
   "outputs": [
    {
     "data": {
      "text/plain": [
       "(array([1.086e+03, 0.000e+00, 0.000e+00, 0.000e+00, 0.000e+00, 8.908e+03,\n",
       "        0.000e+00, 0.000e+00, 0.000e+00, 6.000e+00]),\n",
       " array([2. , 2.2, 2.4, 2.6, 2.8, 3. , 3.2, 3.4, 3.6, 3.8, 4. ]),\n",
       " <a list of 10 Patch objects>)"
      ]
     },
     "execution_count": 21,
     "metadata": {},
     "output_type": "execute_result"
    },
    {
     "data": {
      "image/png": "[encoded data removed]",
      "text/plain": [
       "<Figure size 432x288 with 1 Axes>"
      ]
     },
     "metadata": {
      "needs_background": "light"
     },
     "output_type": "display_data"
    }
   ],
   "source": [
    "plt.hist(n_years)"
   ]
  },
  {
   "cell_type": "markdown",
   "metadata": {},
   "source": [
    "We can see that we pay off the debt in less than 10 years for both the cases."
   ]
  }
 ],
 "metadata": {
  "kernelspec": {
   "display_name": "Python 3",
   "language": "python",
   "name": "python3"
  },
  "language_info": {
   "codemirror_mode": {
    "name": "ipython",
    "version": 3
   },
   "file_extension": ".py",
   "mimetype": "text/x-python",
   "name": "python",
   "nbconvert_exporter": "python",
   "pygments_lexer": "ipython3",
   "version": "3.5.2"
  }
 },
 "nbformat": 4,
 "nbformat_minor": 2
}
